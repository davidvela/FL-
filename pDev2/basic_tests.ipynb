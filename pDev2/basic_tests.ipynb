{
 "cells": [
  {
   "cell_type": "code",
   "execution_count": 1,
   "metadata": {},
   "outputs": [],
   "source": [
    "import pandas as pd\n",
    "import numpy as np"
   ]
  },
  {
   "cell_type": "code",
   "execution_count": 1,
   "metadata": {
    "collapsed": true
   },
   "outputs": [],
   "source": [
    "list = [1,2,3,4,5,6]"
   ]
  },
  {
   "cell_type": "code",
   "execution_count": 2,
   "metadata": {},
   "outputs": [
    {
     "data": {
      "text/plain": [
       "2"
      ]
     },
     "execution_count": 2,
     "metadata": {},
     "output_type": "execute_result"
    }
   ],
   "source": [
    "list.pop(1)"
   ]
  },
  {
   "cell_type": "code",
   "execution_count": 3,
   "metadata": {},
   "outputs": [
    {
     "data": {
      "text/plain": [
       "[1, 3, 4, 5, 6]"
      ]
     },
     "execution_count": 3,
     "metadata": {},
     "output_type": "execute_result"
    }
   ],
   "source": [
    "list"
   ]
  },
  {
   "cell_type": "code",
   "execution_count": 8,
   "metadata": {
    "collapsed": true
   },
   "outputs": [],
   "source": [
    "COL_DS = \"../../data/FRFLO/datac.csv\"\n",
    "col_df = pd.read_csv(COL_DS, index_col=2, sep=',', usecols=[0,1,2,3])    \n"
   ]
  },
  {
   "cell_type": "code",
   "execution_count": 11,
   "metadata": {
    "collapsed": true
   },
   "outputs": [],
   "source": [
    "index = col_df.columns"
   ]
  },
  {
   "cell_type": "code",
   "execution_count": 15,
   "metadata": {
    "collapsed": true
   },
   "outputs": [],
   "source": [
    "index = index.delete(1)"
   ]
  },
  {
   "cell_type": "code",
   "execution_count": 16,
   "metadata": {},
   "outputs": [
    {
     "data": {
      "text/plain": [
       "Index(['cc', 'fp'], dtype='object')"
      ]
     },
     "execution_count": 16,
     "metadata": {},
     "output_type": "execute_result"
    }
   ],
   "source": [
    "index"
   ]
  },
  {
   "cell_type": "code",
   "execution_count": 17,
   "metadata": {},
   "outputs": [
    {
     "data": {
      "text/plain": [
       "range(0, 20)"
      ]
     },
     "execution_count": 17,
     "metadata": {},
     "output_type": "execute_result"
    }
   ],
   "source": [
    "range(20)"
   ]
  },
  {
   "cell_type": "code",
   "execution_count": 18,
   "metadata": {},
   "outputs": [
    {
     "data": {
      "text/plain": [
       "range(20, 40)"
      ]
     },
     "execution_count": 18,
     "metadata": {},
     "output_type": "execute_result"
    }
   ],
   "source": [
    "range(20, 40)"
   ]
  },
  {
   "cell_type": "code",
   "execution_count": 13,
   "metadata": {},
   "outputs": [
    {
     "data": {
      "text/plain": [
       "(3, 5)"
      ]
     },
     "execution_count": 13,
     "metadata": {},
     "output_type": "execute_result"
    }
   ],
   "source": [
    "import operator \n",
    "def test(): \n",
    "    return 1, 1 \n",
    "\n",
    "a , b = 2, 4 \n",
    "# a, b = ( (a, b) + test() ) NOT WORKING\n",
    "a,b = tuple(map(operator.add, (a,b), test()))\n",
    "\n",
    "ret = (1, 2)\n",
    "# ret += test()  NOT WORKING\n",
    "ret = tuple(map(operator.add,ret,test()))\n",
    "ret\n",
    "a, b\n"
   ]
  },
  {
   "cell_type": "code",
   "execution_count": 28,
   "metadata": {},
   "outputs": [
    {
     "name": "stdout",
     "output_type": "stream",
     "text": [
      "m:1               - R-2       ||['hi 1', 'hi 2', 'hi 3']\n"
     ]
    }
   ],
   "source": [
    "def funct(i): \n",
    "    return \"hi \" + str(i)\n",
    "\n",
    "arr = [ 1, 2 , 3 ]\n",
    "promp = \"m:{0:15} - R-{1:5}   ||\".format(\"1\", \"2\") \n",
    "promp = promp + str([ funct(arr[x]) for x in range(len(arr)) ]  )\n",
    "# promp = promp +  str( funct(arr[x]) for x in range(3) )\n",
    "\n",
    "print(promp)\n"
   ]
  },
  {
   "cell_type": "code",
   "execution_count": 34,
   "metadata": {
    "collapsed": true
   },
   "outputs": [],
   "source": [
    "lz = [0] * 10"
   ]
  },
  {
   "cell_type": "code",
   "execution_count": 31,
   "metadata": {},
   "outputs": [
    {
     "data": {
      "text/plain": [
       "[0, 0, 0, 0, 0, 0, 0, 0, 0, 0]"
      ]
     },
     "execution_count": 31,
     "metadata": {},
     "output_type": "execute_result"
    }
   ],
   "source": [
    "lz"
   ]
  },
  {
   "cell_type": "code",
   "execution_count": 1,
   "metadata": {},
   "outputs": [],
   "source": [
    "# write a file text \n",
    "file = '../../data/FRFLO/atx.txt'\n",
    "f = open(file, 'w')\n",
    "for i in range(10):\n",
    "     f.write(\"This is line %d\\r\\n\" % (i+1))\n",
    "f.close()"
   ]
  },
  {
   "cell_type": "code",
   "execution_count": 6,
   "metadata": {},
   "outputs": [
    {
     "data": {
      "text/plain": [
       "array([-1.43604011,  0.        ,  1.00400006,  1.89005622,  2.35803092,\n",
       "       -1.68597457, -0.        , -0.03200631,  1.81327607,  0.90298981,\n",
       "       -0.82392855, -0.4643673 ,  0.        ,  0.53967912,  0.        ,\n",
       "       -0.        ,  0.89057614,  0.05609396, -0.        , -0.0578157 ,\n",
       "        1.08045588,  0.        , -0.        ,  0.79235637, -0.        ,\n",
       "       -0.        , -0.        ,  0.        ,  0.        , -0.        ,\n",
       "        0.        ,  0.        , -0.74305026, -0.        ,  0.        ,\n",
       "        0.60265005, -0.29002754, -1.48900313,  0.94003819, -1.19377286,\n",
       "        0.        ,  1.54003758, -0.63137209, -0.        , -0.        ,\n",
       "        0.34515962,  0.        , -1.33353404, -0.        ,  0.        ,\n",
       "       -1.11319942, -0.5278874 ,  1.53427293,  0.55659122,  0.        ,\n",
       "        0.43779102, -0.        , -0.        , -0.10374062, -1.39444524,\n",
       "       -1.18893082,  0.        , -0.        ,  0.        , -0.        ,\n",
       "       -0.01640509,  0.        , -0.        , -1.96067813, -1.3097058 ,\n",
       "       -0.        , -0.        , -0.        , -0.76065428, -0.        ,\n",
       "       -0.38610437,  0.06858394,  0.72684385,  0.2160812 , -0.        ,\n",
       "        0.        ,  0.        ,  0.        ,  0.        , -0.        ,\n",
       "        0.07699404, -0.        ,  0.05693648, -1.50483281, -2.26641285,\n",
       "        0.        ,  0.        ,  0.11176234, -0.739996  ,  0.        ,\n",
       "        0.33419348,  0.01475296,  0.        ,  0.        , -0.50156208])"
      ]
     },
     "execution_count": 6,
     "metadata": {},
     "output_type": "execute_result"
    }
   ],
   "source": [
    "sample_z = np.random.normal(0, 1, size=(100))\n",
    "mask_z = np.random.randint(2, size=100)    \n",
    "\n",
    "sample_z*mask_z"
   ]
  },
  {
   "cell_type": "code",
   "execution_count": null,
   "metadata": {},
   "outputs": [],
   "source": []
  }
 ],
 "metadata": {
  "kernelspec": {
   "display_name": "Python 3",
   "language": "python",
   "name": "python3"
  },
  "language_info": {
   "codemirror_mode": {
    "name": "ipython",
    "version": 3
   },
   "file_extension": ".py",
   "mimetype": "text/x-python",
   "name": "python",
   "nbconvert_exporter": "python",
   "pygments_lexer": "ipython3",
   "version": "3.5.2"
  }
 },
 "nbformat": 4,
 "nbformat_minor": 2
}
