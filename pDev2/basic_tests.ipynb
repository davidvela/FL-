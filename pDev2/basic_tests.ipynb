{
 "cells": [
  {
   "cell_type": "code",
   "execution_count": 2,
   "metadata": {},
   "outputs": [],
   "source": [
    "import pandas as pd\n",
    "import numpy as np"
   ]
  },
  {
   "cell_type": "markdown",
   "metadata": {},
   "source": [
    "# Tensorflow"
   ]
  },
  {
   "cell_type": "code",
   "execution_count": 1,
   "metadata": {},
   "outputs": [
    {
     "name": "stdout",
     "output_type": "stream",
     "text": [
      "[[1 0 0 0]\n",
      " [0 0 1 0]\n",
      " [0 0 1 0]\n",
      " [0 0 0 1]]\n"
     ]
    }
   ],
   "source": [
    "import tensorflow as tf \n",
    "conf = tf.contrib.metrics.confusion_matrix([0, 1, 2, 3], [0, 2, 2, 3]) \n",
    "# ==>\n",
    "#       [[0 0 0 0 0]\n",
    "#        [0 0 1 0 0]\n",
    "#        [0 0 1 0 0]\n",
    "#        [0 0 0 0 0]\n",
    "#        [0 0 0 0 1]]\n",
    "\n",
    "with tf.Session() as sess:\n",
    "        print(sess.run(conf))"
   ]
  },
  {
   "cell_type": "code",
   "execution_count": 4,
   "metadata": {},
   "outputs": [],
   "source": []
  },
  {
   "cell_type": "markdown",
   "metadata": {},
   "source": [
    "# Pandas - LIST "
   ]
  },
  {
   "cell_type": "code",
   "execution_count": 5,
   "metadata": {},
   "outputs": [],
   "source": [
    "path = \"../../data/FRFLO/datasc.csv\"\n",
    "\n",
    "columns = pd.read_csv( tf.gfile.Open(path), sep=None, skipinitialspace=True,  engine=\"python\" ,skiprows=0, nrows=1)\n",
    "dst = pd.read_csv( tf.gfile.Open(path), sep=None, skipinitialspace=True,  engine=\"python\" ,skiprows=0*10+1, \n",
    "               nrows=10, names = columns.columns)"
   ]
  },
  {
   "cell_type": "code",
   "execution_count": null,
   "metadata": {},
   "outputs": [],
   "source": []
  },
  {
   "cell_type": "code",
   "execution_count": 1,
   "metadata": {
    "collapsed": true
   },
   "outputs": [],
   "source": [
    "list = [1,2,3,4,5,6]"
   ]
  },
  {
   "cell_type": "code",
   "execution_count": 2,
   "metadata": {},
   "outputs": [
    {
     "data": {
      "text/plain": [
       "2"
      ]
     },
     "execution_count": 2,
     "metadata": {},
     "output_type": "execute_result"
    }
   ],
   "source": [
    "list.pop(1)"
   ]
  },
  {
   "cell_type": "code",
   "execution_count": 4,
   "metadata": {},
   "outputs": [
    {
     "data": {
      "text/plain": [
       "array([1, 1, 1])"
      ]
     },
     "execution_count": 4,
     "metadata": {},
     "output_type": "execute_result"
    }
   ],
   "source": [
    "ytb = [2, 4, 5]\n",
    "label_mask = np.zeros_like(ytb)\n",
    "label_mask[:] = 1 #label_mask[0:1000] = 1\n",
    "label_mask"
   ]
  },
  {
   "cell_type": "code",
   "execution_count": 3,
   "metadata": {},
   "outputs": [],
   "source": [
    "COL_DS = \"../../data/FRFLO/datac.csv\"\n",
    "col_df = pd.read_csv(COL_DS, index_col=2, sep=',', usecols=[0,1,2,3])    \n",
    "# COL_DS     = \"./../_zfp/data/FRFLO/colcom.csv\"\n",
    "# col_df = pd.read_csv(COL_DS, index_col=0, sep=',', usecols=[0,1,2,3])\n",
    "# print(col_df)"
   ]
  },
  {
   "cell_type": "code",
   "execution_count": 11,
   "metadata": {
    "collapsed": true
   },
   "outputs": [],
   "source": [
    "index = col_df.columns"
   ]
  },
  {
   "cell_type": "code",
   "execution_count": 15,
   "metadata": {
    "collapsed": true
   },
   "outputs": [],
   "source": [
    "index = index.delete(1)"
   ]
  },
  {
   "cell_type": "code",
   "execution_count": 16,
   "metadata": {},
   "outputs": [
    {
     "data": {
      "text/plain": [
       "Index(['cc', 'fp'], dtype='object')"
      ]
     },
     "execution_count": 16,
     "metadata": {},
     "output_type": "execute_result"
    }
   ],
   "source": [
    "index"
   ]
  },
  {
   "cell_type": "code",
   "execution_count": 5,
   "metadata": {},
   "outputs": [],
   "source": [
    "sample_z = np.random.normal(0, 1, size=(100))\n",
    "mask_z = np.random.randint(2, size=100)    \n",
    "\n",
    "# sample_z*mask_z"
   ]
  },
  {
   "cell_type": "code",
   "execution_count": 19,
   "metadata": {},
   "outputs": [
    {
     "data": {
      "text/plain": [
       "A    0.01\n",
       "B    0.00\n",
       "dtype: float64"
      ]
     },
     "execution_count": 19,
     "metadata": {},
     "output_type": "execute_result"
    }
   ],
   "source": [
    "indx = [ \"A\", \"B\" ]\n",
    "df_entry = pd.Series(index=indx)\n",
    "df_entry = df_entry.fillna(0)\n",
    "df_entry[\"A\"]=0.01\n",
    "# df_entry *= 0\n",
    "# df_entry = df_entry.replace(0, np.nan)\n",
    "\n",
    "df_entry"
   ]
  },
  {
   "cell_type": "markdown",
   "metadata": {
    "heading_collapsed": true
   },
   "source": [
    "# ranges - tupples - functions"
   ]
  },
  {
   "cell_type": "code",
   "execution_count": 17,
   "metadata": {
    "hidden": true
   },
   "outputs": [
    {
     "data": {
      "text/plain": [
       "range(0, 20)"
      ]
     },
     "execution_count": 17,
     "metadata": {},
     "output_type": "execute_result"
    }
   ],
   "source": [
    "range(20)"
   ]
  },
  {
   "cell_type": "code",
   "execution_count": 18,
   "metadata": {
    "hidden": true
   },
   "outputs": [
    {
     "data": {
      "text/plain": [
       "range(20, 40)"
      ]
     },
     "execution_count": 18,
     "metadata": {},
     "output_type": "execute_result"
    }
   ],
   "source": [
    "range(20, 40)"
   ]
  },
  {
   "cell_type": "code",
   "execution_count": 13,
   "metadata": {
    "hidden": true
   },
   "outputs": [
    {
     "data": {
      "text/plain": [
       "(3, 5)"
      ]
     },
     "execution_count": 13,
     "metadata": {},
     "output_type": "execute_result"
    }
   ],
   "source": [
    "import operator \n",
    "def test(): \n",
    "    return 1, 1 \n",
    "\n",
    "a , b = 2, 4 \n",
    "# a, b = ( (a, b) + test() ) NOT WORKING\n",
    "a,b = tuple(map(operator.add, (a,b), test()))\n",
    "\n",
    "ret = (1, 2)\n",
    "# ret += test()  NOT WORKING\n",
    "ret = tuple(map(operator.add,ret,test()))\n",
    "ret\n",
    "a, b\n"
   ]
  },
  {
   "cell_type": "code",
   "execution_count": 28,
   "metadata": {
    "hidden": true
   },
   "outputs": [
    {
     "name": "stdout",
     "output_type": "stream",
     "text": [
      "m:1               - R-2       ||['hi 1', 'hi 2', 'hi 3']\n"
     ]
    }
   ],
   "source": [
    "def funct(i): \n",
    "    return \"hi \" + str(i)\n",
    "\n",
    "arr = [ 1, 2 , 3 ]\n",
    "promp = \"m:{0:15} - R-{1:5}   ||\".format(\"1\", \"2\") \n",
    "promp = promp + str([ funct(arr[x]) for x in range(len(arr)) ]  )\n",
    "# promp = promp +  str( funct(arr[x]) for x in range(3) )\n",
    "\n",
    "print(promp)\n"
   ]
  },
  {
   "cell_type": "code",
   "execution_count": 34,
   "metadata": {
    "collapsed": true,
    "hidden": true
   },
   "outputs": [],
   "source": [
    "lz = [0] * 10"
   ]
  },
  {
   "cell_type": "code",
   "execution_count": 31,
   "metadata": {
    "hidden": true
   },
   "outputs": [
    {
     "data": {
      "text/plain": [
       "[0, 0, 0, 0, 0, 0, 0, 0, 0, 0]"
      ]
     },
     "execution_count": 31,
     "metadata": {},
     "output_type": "execute_result"
    }
   ],
   "source": [
    "lz"
   ]
  },
  {
   "cell_type": "code",
   "execution_count": null,
   "metadata": {
    "hidden": true
   },
   "outputs": [],
   "source": []
  },
  {
   "cell_type": "markdown",
   "metadata": {
    "heading_collapsed": true
   },
   "source": [
    "# Files"
   ]
  },
  {
   "cell_type": "code",
   "execution_count": 1,
   "metadata": {
    "hidden": true
   },
   "outputs": [],
   "source": [
    "# write a file text \n",
    "file = '../../data/FRFLO/atx.txt'\n",
    "f = open(file, 'w')\n",
    "for i in range(10):\n",
    "     f.write(\"This is line %d\\r\\n\" % (i+1))\n",
    "f.close()"
   ]
  },
  {
   "cell_type": "code",
   "execution_count": 1,
   "metadata": {
    "hidden": true
   },
   "outputs": [
    {
     "name": "stdout",
     "output_type": "stream",
     "text": [
      "E Ac: 20.2\n"
     ]
    }
   ],
   "source": [
    "ev_ac = 20.2\n",
    "print(\"E Ac:\", ev_ac)"
   ]
  },
  {
   "cell_type": "code",
   "execution_count": null,
   "metadata": {
    "hidden": true
   },
   "outputs": [],
   "source": [
    "import json\n",
    "\n",
    "# test json ... information lost for json read \n",
    "json_str = '''[{ \"m\":\"8989\", \"c674\" :0.00454545454545 , \"c950\" :0.0045 }] '''\n",
    "json_data = json.loads(json_str)\n",
    "print(type(json_data))\n"
   ]
  },
  {
   "cell_type": "code",
   "execution_count": null,
   "metadata": {
    "hidden": true
   },
   "outputs": [],
   "source": []
  }
 ],
 "metadata": {
  "kernelspec": {
   "display_name": "Python 3",
   "language": "python",
   "name": "python3"
  },
  "language_info": {
   "codemirror_mode": {
    "name": "ipython",
    "version": 3
   },
   "file_extension": ".py",
   "mimetype": "text/x-python",
   "name": "python",
   "nbconvert_exporter": "python",
   "pygments_lexer": "ipython3",
   "version": "3.5.2"
  }
 },
 "nbformat": 4,
 "nbformat_minor": 2
}
