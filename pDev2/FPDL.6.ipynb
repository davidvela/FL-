{
 "cells": [
  {
   "cell_type": "markdown",
   "metadata": {},
   "source": [
    "# FP - TRUN"
   ]
  },
  {
   "cell_type": "code",
   "execution_count": 2,
   "metadata": {},
   "outputs": [],
   "source": [
    "from datetime import datetime\n",
    "import mRun as mr\n",
    "import utils_data as md\n",
    "import numpy as np\n",
    "import pandas as pd\n",
    "\n",
    "def get_models(type):\n",
    "    if type == \"FRFLO\":\n",
    "        return [\n",
    "            { 'dt':'C2',  \"e\":100, \"lr\":0.001, \"h\":[100 , 100], \"spn\": 5000, \"pe\": [], \"pt\": []  },\n",
    "            { 'dt':'C4',  \"e\":100, \"lr\":0.001, \"h\":[100 , 100], \"spn\": 5000, \"pe\": [], \"pt\": []  },\n",
    "            { 'dt':'C1',  \"e\":100, \"lr\":0.001, \"h\":[100 , 100], \"spn\": 5000, \"pe\": [], \"pt\": []  },\n",
    "        ]\n",
    "    elif type == \"FRALL1\":\n",
    "        return [\n",
    "            { 'dt':'C2',  \"e\":40,  \"lr\":0.001, \"h\":[100 , 100], \"spn\": 40000, \"pe\": [], \"pt\": []  },\n",
    "            # { 'dt':'C4',  \"e\":100, \"lr\":0.001, \"h\":[100 , 100], \"spn\": 40000, \"pe\": [], \"pt\": []  },\n",
    "            # { 'dt':'C1',  \"e\":100, \"lr\":0.001, \"h\":[100 , 100], \"spn\": 40000, \"pe\": [], \"pt\": []  },\n",
    "            # { 'dt':'C0',  \"e\":100, \"lr\":0.001, \"h\":[100 , 100], \"spn\": 10000, \"pe\": [], \"pt\": []  },\n",
    "        ]\n",
    "    else: return []"
   ]
  },
  {
   "cell_type": "code",
   "execution_count": 4,
   "metadata": {},
   "outputs": [
    {
     "name": "stdout",
     "output_type": "stream",
     "text": [
      "___Start!___01:04:31\n",
      "data read - 45822 - time:49.66408729553223\n"
     ]
    }
   ],
   "source": [
    "print(\"___Start!___\" +  datetime.now().strftime('%H:%M:%S')  )\n",
    "final = \"_\" ;  md.DESC = \"FRALL1\";  # FRFLO   FRALL1\n",
    "ALL_DS = md.LOGDAT + md.DESC + md.DSC \n",
    "\n",
    "execc = get_models(md.DESC)\n",
    "\n",
    "# DATA READ  ------------------------------------------------ \n",
    "# md.mainRead2(ALL_DS, 1, 2 ) # , all = True, shuffle = True  ) \n",
    "md.mainRead2(path=ALL_DS, part=1, batch_size=2 ) # For testing I am forced to used JSON - column names and order may be different! \n",
    "\n",
    "url_test = md.LOGDAT + \"FREXP1/\" ; # url_test = \"url\"\n",
    "force = False; excel = True  # dataFile = \"frall2_json.txt\"; labelFile = \"datal.csv\"     \n",
    "md.get_tests(url_test, force, excel )\n"
   ]
  },
  {
   "cell_type": "code",
   "execution_count": 5,
   "metadata": {},
   "outputs": [
    {
     "name": "stdout",
     "output_type": "stream",
     "text": [
      "build network\n",
      "../../dmodels/FRALL1/slr_1E-03_NN2385x100x100x2_ep40_/model.ckpt\n",
      "_____TESTS...\n",
      "Model restored from file: ../../dmodels/FRALL1/slr_1E-03_NN2385x100x100x2_ep40_/model.ckpt\n",
      "INFO:tensorflow:Restoring parameters from ../../dmodels/FRALL1/slr_1E-03_NN2385x100x100x2_ep40_/model.ckpt\n",
      "test ac = 0.99335235\n",
      "0 RealVal: 1 - 1 - PP: [1 0] PR: [9.999914e-01 8.533054e-06]\n",
      "1 RealVal: 1 - 1 - PP: [1 0] PR: [1.0000000e+00 5.5183982e-08]\n",
      "2 RealVal: 1 - 1 - PP: [1 0] PR: [9.999907e-01 9.355504e-06]\n",
      "3 RealVal: 1 - 1 - PP: [1 0] PR: [9.999988e-01 1.168963e-06]\n",
      "4 RealVal: 1 - 1 - PP: [1 0] PR: [1.0000000e+00 2.6773737e-08]\n",
      "5 RealVal: 1 - 1 - PP: [1 0] PR: [9.9997807e-01 2.1874701e-05]\n",
      "6 RealVal: 1 - 1 - PP: [1 0] PR: [9.9996257e-01 3.7446203e-05]\n",
      "7 RealVal: 1 - 1 - PP: [1 0] PR: [1.0000000e+00 4.0664194e-16]\n",
      "8 RealVal: 1 - 1 - PP: [1 0] PR: [9.999999e-01 8.128393e-08]\n",
      "9 RealVal: 1 - 1 - PP: [1 0] PR: [9.9999952e-01 4.4085803e-07]\n",
      "10 RealVal: 1 - 1 - PP: [1 0] PR: [9.9999905e-01 9.8073474e-07]\n",
      "11 RealVal: 1 - 1 - PP: [1 0] PR: [0.9959157  0.00408431]\n",
      "12 RealVal: 1 - 1 - PP: [1 0] PR: [0.99484986 0.00515012]\n",
      "13 RealVal: 1 - 1 - PP: [1 0] PR: [0.99813676 0.00186318]\n",
      "14 RealVal: 1 - 1 - PP: [1 0] PR: [9.9999869e-01 1.3216936e-06]\n",
      "15 RealVal: 0 - 0 - PP: [0 1] PR: [0.9981384  0.00186152]\n",
      "16 RealVal: 0 - 0 - PP: [0 1] PR: [0.99447244 0.00552749]\n",
      "17 RealVal: 1 - 1 - PP: [1 0] PR: [9.9996054e-01 3.9504775e-05]\n",
      "18 RealVal: 1 - 1 - PP: [1 0] PR: [9.9997258e-01 2.7423766e-05]\n",
      "19 RealVal: 1 - 1 - PP: [1 0] PR: [9.999999e-01 1.561267e-07]\n",
      "denormalization all Evaluation : 1053 = 1053\n",
      "0\n",
      "1000\n",
      "Total: 1053 GT3: 7  GTM: 7\n",
      "___Log recorded\n",
      "Confusion matrix, without normalization\n",
      "end!___01:05:28\n"
     ]
    }
   ],
   "source": [
    "# OPERATIONS  ------------------------------------------------ \n",
    "# md.get_columns(force)\n",
    "for ex in execc:\n",
    "    md.spn = ex[\"spn\"]; md.dType = ex[\"dt\"]; mr.epochs = ex[\"e\"]; mr.lr = ex[\"lr\"]; mr.h = ex[\"h\"]\n",
    "\n",
    "    md.normalize()  \n",
    "    mr.ninp, mr.nout, mr.top_k = md.getnn()\n",
    "    md.MODEL_DIR = md.LOGDIR + md.DESC + '/'   + mr.get_hpar(mr.epochs, final=final) +\"/\" \n",
    "    mr.model_path = md.MODEL_DIR + \"model.ckpt\" \n",
    "    mr.build_network3()                                                                                                                                                                                                                                                                                    \n",
    "    print(mr.model_path)    \n",
    "    # ex[\"pe\"] = mr.evaluate( )\n",
    "    ex[\"pt\"] = mr.tests(url_test, p_col=False  )\n",
    "\n",
    "# PRINTING  ------------------------------------------------ \n",
    "print(\"end!___\" +  datetime.now().strftime('%H:%M:%S')  )"
   ]
  },
  {
   "cell_type": "code",
   "execution_count": 7,
   "metadata": {},
   "outputs": [
    {
     "data": {
      "text/html": [
       "<div>\n",
       "<style>\n",
       "    .dataframe thead tr:only-child th {\n",
       "        text-align: right;\n",
       "    }\n",
       "\n",
       "    .dataframe thead th {\n",
       "        text-align: left;\n",
       "    }\n",
       "\n",
       "    .dataframe tbody tr th {\n",
       "        vertical-align: top;\n",
       "    }\n",
       "</style>\n",
       "<table border=\"1\" class=\"dataframe\">\n",
       "  <thead>\n",
       "    <tr style=\"text-align: right;\">\n",
       "      <th></th>\n",
       "      <th>M</th>\n",
       "      <th>FP</th>\n",
       "      <th>C2FP_P</th>\n",
       "    </tr>\n",
       "  </thead>\n",
       "  <tbody>\n",
       "    <tr>\n",
       "      <th>0</th>\n",
       "      <td>640309</td>\n",
       "      <td>70</td>\n",
       "      <td>1</td>\n",
       "    </tr>\n",
       "    <tr>\n",
       "      <th>1</th>\n",
       "      <td>640310</td>\n",
       "      <td>74</td>\n",
       "      <td>1</td>\n",
       "    </tr>\n",
       "    <tr>\n",
       "      <th>2</th>\n",
       "      <td>640391</td>\n",
       "      <td>67</td>\n",
       "      <td>1</td>\n",
       "    </tr>\n",
       "    <tr>\n",
       "      <th>3</th>\n",
       "      <td>640411</td>\n",
       "      <td>67</td>\n",
       "      <td>1</td>\n",
       "    </tr>\n",
       "    <tr>\n",
       "      <th>4</th>\n",
       "      <td>PAV10150AP</td>\n",
       "      <td>97</td>\n",
       "      <td>1</td>\n",
       "    </tr>\n",
       "  </tbody>\n",
       "</table>\n",
       "</div>"
      ],
      "text/plain": [
       "            M  FP  C2FP_P\n",
       "0      640309  70       1\n",
       "1      640310  74       1\n",
       "2      640391  67       1\n",
       "3      640411  67       1\n",
       "4  PAV10150AP  97       1"
      ]
     },
     "execution_count": 7,
     "metadata": {},
     "output_type": "execute_result"
    }
   ],
   "source": [
    "#save copy\n",
    "# md.normalize()  = apply inverse normalization!\n",
    "tsd = md.dsp[[\"M\", \"FP\"]]\n",
    "tsd.insert(len(tsd.columns), ex[\"dt\"] + 'FP_P', md.dsp[\"FP_P\"].map(lambda x: md.dc( x ) ))    \n",
    "\n",
    "# for ex in execc:\n",
    "def record_d( ex, dsp, type = \"pt\"  ):\n",
    "\n",
    "    print(len(np.array([str(xi[0]) for xi in ex[\"pt\"][1]])))\n",
    "    print(len(tsd.columns))\n",
    "    \n",
    "    tsd.insert(len(tsd.columns), ex[\"dt\"] + 'FP_P', dsp[\"FP_P\"].map(lambda x: dc( x ) )    )\n",
    "    \n",
    "        \n",
    "    #tsd[ \"_PRED\"] = np.array([str(xi[0]) for xi in ex[\"pt\"][1]])  \n",
    "    #tsd.insert(len(tsd.columns), ex[\"dt\"] + '_PRED', np.array([str(xi[0]) for xi in ex[\"pt\"][1]])  )    \n",
    "    tsd.insert(len(tsd.columns), ex[\"dt\"] + '_PREDU', np.array([str(xi[0]) for xi in ex[\"pt\"][1]])  )    \n",
    "    tsd.insert(len(tsd.columns), ex[\"dt\"] + '_PRED', np.array([str(xi) for xi in ex[\"pt\"][1]])  )    \n",
    "    tsd.insert(len(tsd.columns), ex[\"dt\"] + '_PROB', np.array([str(xi) for xi in ex[\"pt\"][0]])  )    \n",
    "\n",
    "    # error calc: \n",
    "    #tsd[ex[\"dt\"] + '_ERR'] = tsd.[[ex[\"dt\"] + '_PREDU']] == \n",
    "    \n",
    "    # tsd[\"PRED\"] = ex[\"pt\"][1][i][0] # pred 1\n",
    "    # tsd[ex[\"dt\"] + \"_PRED\"] = ex[\"pt\"][1] # pred 1\n",
    "    # tsd[ex[\"dt\"] + \"_PROB\"] = ex[\"pt\"][0] # prob \n",
    "\n",
    "    #tsd.insert(2, '_PRED', np.array([str(xi[0]) for xi in ex[\"pt\"][1]])  )    \n",
    "    #tsd[ex[\"dt\"] + \"_PROB\"] = ex[\"pt\"][0] # prob \n",
    "    \n",
    "#tsd.to_csv(md.LOGDAT + \"testDSJ.csv\")\n",
    "tsd.head()\n",
    "# md.dsp.head()\n"
   ]
  },
  {
   "cell_type": "code",
   "execution_count": null,
   "metadata": {},
   "outputs": [],
   "source": []
  },
  {
   "cell_type": "code",
   "execution_count": null,
   "metadata": {},
   "outputs": [],
   "source": []
  },
  {
   "cell_type": "code",
   "execution_count": null,
   "metadata": {},
   "outputs": [],
   "source": []
  }
 ],
 "metadata": {
  "kernelspec": {
   "display_name": "Python 3",
   "language": "python",
   "name": "python3"
  },
  "language_info": {
   "codemirror_mode": {
    "name": "ipython",
    "version": 3
   },
   "file_extension": ".py",
   "mimetype": "text/x-python",
   "name": "python",
   "nbconvert_exporter": "python",
   "pygments_lexer": "ipython3",
   "version": "3.5.2"
  }
 },
 "nbformat": 4,
 "nbformat_minor": 2
}
