{
 "cells": [
  {
   "cell_type": "markdown",
   "metadata": {},
   "source": [
    "# FP - TRUN"
   ]
  },
  {
   "cell_type": "code",
   "execution_count": 1,
   "metadata": {},
   "outputs": [],
   "source": [
    "from datetime import datetime\n",
    "import mRun as mr\n",
    "import utils_data as md\n",
    "import numpy as np\n",
    "import pandas as pd\n",
    "\n",
    "def get_models(type):\n",
    "    if type == \"FRFLO\":\n",
    "        return [\n",
    "            { 'dt':'C2',  \"e\":100, \"lr\":0.001, \"h\":[100 , 100], \"spn\": 5000, \"pe\": [], \"pt\": []  },\n",
    "            { 'dt':'C4',  \"e\":100, \"lr\":0.001, \"h\":[100 , 100], \"spn\": 5000, \"pe\": [], \"pt\": []  },\n",
    "            { 'dt':'C1',  \"e\":100, \"lr\":0.001, \"h\":[100 , 100], \"spn\": 5000, \"pe\": [], \"pt\": []  },\n",
    "        ]\n",
    "    elif type == \"FRALL1\":\n",
    "        return [\n",
    "            { 'dt':'C2',  \"e\":40,  \"lr\":0.001, \"h\":[100 , 100], \"spn\": 40000, \"pe\": [], \"pt\": []  },\n",
    "            # { 'dt':'C4',  \"e\":100, \"lr\":0.001, \"h\":[100 , 100], \"spn\": 40000, \"pe\": [], \"pt\": []  },\n",
    "            # { 'dt':'C1',  \"e\":100, \"lr\":0.001, \"h\":[100 , 100], \"spn\": 40000, \"pe\": [], \"pt\": []  },\n",
    "            # { 'dt':'C0',  \"e\":100, \"lr\":0.001, \"h\":[100 , 100], \"spn\": 10000, \"pe\": [], \"pt\": []  },\n",
    "        ]\n",
    "    else: return []"
   ]
  },
  {
   "cell_type": "code",
   "execution_count": 2,
   "metadata": {},
   "outputs": [
    {
     "name": "stdout",
     "output_type": "stream",
     "text": [
      "___Start!___19:42:19\n",
      "data read - 45822 - time:50.172412633895874\n"
     ]
    }
   ],
   "source": [
    "print(\"___Start!___\" +  datetime.now().strftime('%H:%M:%S')  )\n",
    "final = \"_\" ;  md.DESC = \"FRALL1\";  # FRFLO   FRALL1\n",
    "ALL_DS = md.LOGDAT + md.DESC + md.DSC \n",
    "\n",
    "execc = get_models(md.DESC)\n",
    "\n",
    "# DATA READ  ------------------------------------------------ \n",
    "# md.mainRead2(ALL_DS, 1, 2 ) # , all = True, shuffle = True  ) \n",
    "md.mainRead2(path=ALL_DS, part=1, batch_size=2 ) # For testing I am forced to used JSON - column names and order may be different! \n",
    "\n",
    "url_test = md.LOGDAT + \"FREXP1/\" ; # url_test = \"url\"\n",
    "force = False; excel = True  # dataFile = \"frall2_json.txt\"; labelFile = \"datal.csv\"     \n",
    "md.get_tests(url_test, force, excel )\n"
   ]
  },
  {
   "cell_type": "code",
   "execution_count": 3,
   "metadata": {},
   "outputs": [
    {
     "name": "stdout",
     "output_type": "stream",
     "text": [
      "build network\n",
      "../../dmodels/FRALL1/slr_1E-03_NN2385x100x100x2_ep40_/model.ckpt\n",
      "_____TESTS...\n",
      "Model restored from file: ../../dmodels/FRALL1/slr_1E-03_NN2385x100x100x2_ep40_/model.ckpt\n",
      "INFO:tensorflow:Restoring parameters from ../../dmodels/FRALL1/slr_1E-03_NN2385x100x100x2_ep40_/model.ckpt\n",
      "test ac = 0.99335235\n",
      "0 RealVal: 1 - 1 - PP: [1 0] PR: [9.9989545e-01 1.0449832e-04]\n",
      "1 RealVal: 1 - 1 - PP: [1 0] PR: [1.000000e+00 3.974243e-09]\n",
      "2 RealVal: 1 - 1 - PP: [1 0] PR: [0.9814408  0.01855926]\n",
      "3 RealVal: 1 - 1 - PP: [1 0] PR: [9.998140e-01 1.860105e-04]\n",
      "4 RealVal: 1 - 1 - PP: [1 0] PR: [1.0000000e+00 6.5960026e-10]\n",
      "5 RealVal: 1 - 1 - PP: [1 0] PR: [0.95209736 0.0479026 ]\n",
      "6 RealVal: 1 - 1 - PP: [1 0] PR: [0.99856144 0.00143853]\n",
      "7 RealVal: 1 - 1 - PP: [1 0] PR: [1.0000000e+00 4.2221077e-11]\n",
      "8 RealVal: 1 - 1 - PP: [1 0] PR: [9.9987495e-01 1.2501977e-04]\n",
      "9 RealVal: 1 - 1 - PP: [1 0] PR: [9.9999475e-01 5.2597829e-06]\n",
      "10 RealVal: 1 - 1 - PP: [1 0] PR: [9.9998057e-01 1.9380865e-05]\n",
      "11 RealVal: 1 - 1 - PP: [1 0] PR: [0.9913236  0.00867636]\n",
      "12 RealVal: 1 - 1 - PP: [1 0] PR: [0.9942199  0.00578016]\n",
      "13 RealVal: 1 - 1 - PP: [1 0] PR: [9.9999416e-01 5.8617411e-06]\n",
      "14 RealVal: 1 - 1 - PP: [1 0] PR: [9.9999976e-01 2.1356517e-07]\n",
      "15 RealVal: 0 - 0 - PP: [0 1] PR: [0.99576724 0.00423272]\n",
      "16 RealVal: 0 - 0 - PP: [0 1] PR: [0.997288   0.00271207]\n",
      "17 RealVal: 1 - 1 - PP: [1 0] PR: [9.9922085e-01 7.7919610e-04]\n",
      "18 RealVal: 1 - 1 - PP: [1 0] PR: [9.9999821e-01 1.7437015e-06]\n",
      "19 RealVal: 1 - 1 - PP: [1 0] PR: [9.999963e-01 3.678245e-06]\n",
      "denormalization all Evaluation : 1053 = 1053\n",
      "0\n",
      "1000\n",
      "Total: 1053 GT3: 7  GTM: 7\n",
      "___Log recorded\n",
      "Confusion matrix, without normalization\n",
      "end!___19:43:15\n"
     ]
    }
   ],
   "source": [
    "# OPERATIONS  ------------------------------------------------ \n",
    "# md.get_columns(force)\n",
    "for ex in execc:\n",
    "    md.spn = ex[\"spn\"]; md.dType = ex[\"dt\"]; mr.epochs = ex[\"e\"]; mr.lr = ex[\"lr\"]; mr.h = ex[\"h\"]\n",
    "\n",
    "    md.normalize()  \n",
    "    mr.ninp, mr.nout, mr.top_k = md.getnn()\n",
    "    md.MODEL_DIR = md.LOGDIR + md.DESC + '/'   + mr.get_hpar(mr.epochs, final=final) +\"/\" \n",
    "    mr.model_path = md.MODEL_DIR + \"model.ckpt\" \n",
    "    mr.build_network3()                                                                                                                                                                                                                                                                                    \n",
    "    print(mr.model_path)    \n",
    "    # ex[\"pe\"] = mr.evaluate( )\n",
    "    ex[\"pt\"] = mr.tests(url_test, p_col=False  )\n",
    "\n",
    "# PRINTING  ------------------------------------------------ \n",
    "print(\"end!___\" +  datetime.now().strftime('%H:%M:%S')  )"
   ]
  },
  {
   "cell_type": "code",
   "execution_count": 4,
   "metadata": {},
   "outputs": [
    {
     "name": "stdout",
     "output_type": "stream",
     "text": [
      "            M  FP  C2_FP_P  C2_PREDU C2_PRED                        C2_PROB  \\\n",
      "0      640309  70        1         1   [1 0]  [9.9989545e-01 1.0449832e-04]   \n",
      "1      640310  74        1         1   [1 0]    [1.000000e+00 3.974243e-09]   \n",
      "2      640391  67        1         1   [1 0]        [0.9814408  0.01855926]   \n",
      "3      640411  67        1         1   [1 0]    [9.998140e-01 1.860105e-04]   \n",
      "4  PAV10150AP  97        1         1   [1 0]  [1.0000000e+00 6.5960026e-10]   \n",
      "\n",
      "   C2_ERR  \n",
      "0    True  \n",
      "1    True  \n",
      "2    True  \n",
      "3    True  \n",
      "4    True  \n",
      "1046\n",
      "1053\n"
     ]
    }
   ],
   "source": [
    "tsd = md.dsp[[\"M\", \"FP\"]]\n",
    "tsd.insert(len(tsd.columns), ex[\"dt\"] + '_FP_P', md.dsp[\"FP_P\"].map(lambda x: md.dc( x ) ))    \n",
    "\n",
    "# for ex in execc:\n",
    "ex = execc[0]\n",
    "def record_d( ex, dsp, type = \"pt\"  ):\n",
    "    # print(len(np.array([str(xi[0]) for xi in ex[\"pt\"][1]])));     print(len(tsd.columns))\n",
    "    # tsd.insert(len(tsd.columns), ex[\"dt\"] + 'FP_P', dsp2[\"FP_P\"].map(lambda x: dc( x ) )    )\n",
    "    #tsd[ \"_PRED\"] = np.array([str(xi[0]) for xi in ex[\"pt\"][1]])  # pandas warnings! \n",
    "    dsp.insert(len(tsd.columns), ex[\"dt\"] + '_PREDU', np.array([int(xi[0])  for xi in ex[type][1]])  )    \n",
    "    dsp.insert(len(tsd.columns), ex[\"dt\"] + '_PRED', np.array([str(xi)      for xi in ex[type][1]])  )    \n",
    "    dsp.insert(len(tsd.columns), ex[\"dt\"] + '_PROB', np.array([str(xi)      for xi in ex[type][0]])  )    \n",
    "\n",
    "    # error calc: \n",
    "    # dsp[ex[\"dt\"] + '_ERR'] = dsp[[ex[\"dt\"] + '_PREDU']] == dsp[[ex[\"dt\"] + '_FP_P']] \n",
    "    dsp.insert(len(tsd.columns), ex[\"dt\"] + '_ERR', ( tsd.loc[:, ex[\"dt\"] + '_FP_P'] == tsd.loc[:,ex[\"dt\"] +'_PREDU']  )  )   \n",
    "        \n",
    "tds = record_d( ex, tsd, type = \"pt\")    \n",
    "tsd.to_csv(md.LOGDAT + \"testDSJ.csv\")\n",
    "\n",
    "\n",
    "\n",
    "# testing\n",
    "print(tsd.head())\n",
    "# if(tsd[[\"C2_PREDU\"]] == tsd[[\"C2_FP_P\"]]): print(\"HI\")\n",
    "# tsd[[\"C2_PREDU\"]]\n",
    "# print(tsd.iloc[2])\n",
    "\n",
    "# tsd.iloc[:,\"C2_FP_P\"] == tsd.iloc[:,\"C2_PRED_U\"]\n",
    "print( (tsd.iloc[:,2] == tsd.iloc[:,3]).sum() )\n",
    "print(len(tsd))\n",
    "# tsd.iloc[:,2]\n",
    "# tsd.loc[:,'C2_FP_P'] == tsd.loc[:,'C2_PREDU']\n"
   ]
  },
  {
   "cell_type": "code",
   "execution_count": null,
   "metadata": {},
   "outputs": [],
   "source": []
  },
  {
   "cell_type": "code",
   "execution_count": null,
   "metadata": {},
   "outputs": [],
   "source": []
  },
  {
   "cell_type": "markdown",
   "metadata": {
    "heading_collapsed": true
   },
   "source": [
    "# test "
   ]
  },
  {
   "cell_type": "code",
   "execution_count": 4,
   "metadata": {
    "hidden": true
   },
   "outputs": [
    {
     "data": {
      "text/html": [
       "<div>\n",
       "<style>\n",
       "    .dataframe thead tr:only-child th {\n",
       "        text-align: right;\n",
       "    }\n",
       "\n",
       "    .dataframe thead th {\n",
       "        text-align: left;\n",
       "    }\n",
       "\n",
       "    .dataframe tbody tr th {\n",
       "        vertical-align: top;\n",
       "    }\n",
       "</style>\n",
       "<table border=\"1\" class=\"dataframe\">\n",
       "  <thead>\n",
       "    <tr style=\"text-align: right;\">\n",
       "      <th></th>\n",
       "      <th>M</th>\n",
       "      <th>FP</th>\n",
       "      <th>C2FP_P</th>\n",
       "    </tr>\n",
       "  </thead>\n",
       "  <tbody>\n",
       "    <tr>\n",
       "      <th>0</th>\n",
       "      <td>640309</td>\n",
       "      <td>70</td>\n",
       "      <td>1</td>\n",
       "    </tr>\n",
       "    <tr>\n",
       "      <th>1</th>\n",
       "      <td>640310</td>\n",
       "      <td>74</td>\n",
       "      <td>1</td>\n",
       "    </tr>\n",
       "    <tr>\n",
       "      <th>2</th>\n",
       "      <td>640391</td>\n",
       "      <td>67</td>\n",
       "      <td>1</td>\n",
       "    </tr>\n",
       "    <tr>\n",
       "      <th>3</th>\n",
       "      <td>640411</td>\n",
       "      <td>67</td>\n",
       "      <td>1</td>\n",
       "    </tr>\n",
       "    <tr>\n",
       "      <th>4</th>\n",
       "      <td>PAV10150AP</td>\n",
       "      <td>97</td>\n",
       "      <td>1</td>\n",
       "    </tr>\n",
       "  </tbody>\n",
       "</table>\n",
       "</div>"
      ],
      "text/plain": [
       "            M  FP  C2FP_P\n",
       "0      640309  70       1\n",
       "1      640310  74       1\n",
       "2      640391  67       1\n",
       "3      640411  67       1\n",
       "4  PAV10150AP  97       1"
      ]
     },
     "execution_count": 4,
     "metadata": {},
     "output_type": "execute_result"
    }
   ],
   "source": [
    "#save copy\n",
    "# md.normalize()  = apply inverse normalization!\n",
    "tsd = md.dsp[[\"M\", \"FP\"]]\n",
    "tsd.insert(len(tsd.columns), ex[\"dt\"] + 'FP_P', md.dsp[\"FP_P\"].map(lambda x: md.dc( x ) ))    \n",
    "\n",
    "# for ex in execc:\n",
    "def record_d( ex, dsp, type = \"pt\"  ):\n",
    "\n",
    "    print(len(np.array([str(xi[0]) for xi in ex[\"pt\"][1]])))\n",
    "    print(len(tsd.columns))\n",
    "    \n",
    "    tsd.insert(len(tsd.columns), ex[\"dt\"] + 'FP_P', dsp[\"FP_P\"].map(lambda x: dc( x ) )    )\n",
    "    \n",
    "        \n",
    "    #tsd[ \"_PRED\"] = np.array([str(xi[0]) for xi in ex[\"pt\"][1]])  \n",
    "    #tsd.insert(len(tsd.columns), ex[\"dt\"] + '_PRED', np.array([str(xi[0]) for xi in ex[\"pt\"][1]])  )    \n",
    "    tsd.insert(len(tsd.columns), ex[\"dt\"] + '_PREDU', np.array([str(xi[0]) for xi in ex[\"pt\"][1]])  )    \n",
    "    tsd.insert(len(tsd.columns), ex[\"dt\"] + '_PRED', np.array([str(xi) for xi in ex[\"pt\"][1]])  )    \n",
    "    tsd.insert(len(tsd.columns), ex[\"dt\"] + '_PROB', np.array([str(xi) for xi in ex[\"pt\"][0]])  )    \n",
    "\n",
    "    # error calc: \n",
    "    #tsd[ex[\"dt\"] + '_ERR'] = tsd.[[ex[\"dt\"] + '_PREDU']] == \n",
    "    \n",
    "    # tsd[\"PRED\"] = ex[\"pt\"][1][i][0] # pred 1\n",
    "    # tsd[ex[\"dt\"] + \"_PRED\"] = ex[\"pt\"][1] # pred 1\n",
    "    # tsd[ex[\"dt\"] + \"_PROB\"] = ex[\"pt\"][0] # prob \n",
    "\n",
    "    #tsd.insert(2, '_PRED', np.array([str(xi[0]) for xi in ex[\"pt\"][1]])  )    \n",
    "    #tsd[ex[\"dt\"] + \"_PROB\"] = ex[\"pt\"][0] # prob \n",
    "    \n",
    "#tsd.to_csv(md.LOGDAT + \"testDSJ.csv\")\n",
    "tsd.head()\n",
    "# md.dsp.head()\n"
   ]
  },
  {
   "cell_type": "code",
   "execution_count": null,
   "metadata": {
    "hidden": true
   },
   "outputs": [],
   "source": []
  },
  {
   "cell_type": "code",
   "execution_count": null,
   "metadata": {
    "hidden": true
   },
   "outputs": [],
   "source": []
  },
  {
   "cell_type": "markdown",
   "metadata": {},
   "source": [
    "# Print formula "
   ]
  },
  {
   "cell_type": "code",
   "execution_count": 68,
   "metadata": {},
   "outputs": [
    {
     "name": "stdout",
     "output_type": "stream",
     "text": [
      "N. of components: 48\n",
      "components:\n",
      "M       -      (    )--(     ) - PBV11270AD\n",
      "FP      -      (    )--(     ) -         59\n",
      "100419  -      ( 176)--( 40.0) -  4.4444446% \t\tX\n",
      "103011  -      (6116)--( 72.0) -  8.3333336% \t\t\n",
      "103090  -      ( 186)--( 89.0) -  0.6666667% \t\t\n",
      "103156  -      (2180)--(101.0) - 1.1111111000000002% \t\t\n",
      "103247  -      (3316)--(101.0) - 0.5555555999999999% \t\t\n",
      "103605  -      ( 960)--( 98.0) - 0.5555555999999999% \t\t\n",
      "103797  -      (2411)--( 52.0) - 3.8888890000000003% \t\tX\n",
      "103798  -      (3151)--( 82.0) - 0.11111110000000002% \t\t\n",
      "103799  -      (4944)--( 87.0) - 13.888889599999999% \t\t\n",
      "103933  -      ( 527)--( 88.0) - 0.055555600000000004% \t\t\n",
      "105169  -      (2496)--( 41.0) -  0.3333333% \t\tX\n",
      "105461  -      ( 584)--( 78.0) - 0.5555555999999999% \t\t\n",
      "113554  -      (5645)--(151.0) -      0.066% \t\t\n",
      "130077  -      (3131)--(116.0) - 0.055555600000000004% \t\t\n",
      "130337  -      ( 155)--( 85.0) - 0.055555600000000004% \t\t\n",
      "130659  -      ( 695)--(134.0) - 1.1111111000000002% \t\t\n",
      "130837  -      (2953)--(100.0) - 3.8888890000000003% \t\t\n",
      "131030  -      (6754)--(110.0) -  1.6666668% \t\t\n",
      "131104  -      (5255)--( 44.0) -  0.3333333% \t\tX\n",
      "131185  -      (3840)--( 58.0) - 0.5555555999999999% \t\tX\n",
      "131202  -      (  29)--(110.0) - 0.00155556% \t\t\n",
      "131224  -      ( 249)--(110.0) - 0.00222222% \t\t\n",
      "131309  -      ( 918)--( 95.0) -  1.6666668% \t\t\n",
      "131381  -      (2494)--( 93.0) - 0.5555555999999999% \t\t\n",
      "131469  -      (1053)--(110.0) -  0.0166667% \t\t\n",
      "131486  -      (4125)--(101.0) - 0.5555555999999999% \t\t\n",
      "131503  -      (2940)--(103.0) -  0.4444445% \t\t\n",
      "157503  -      ( 462)--( 98.0) - 3.3333334999999997% \t\t\n",
      "160102  -      (8738)--(121.0) - 0.15400000000000003% \t\t\n",
      "172780  -      ( 148)--( 74.0) - 0.00222222% \t\t\n",
      "178583  -      ( 606)--( 75.0) -       2.44% \t\t\n",
      "197007  -      (1425)--( 83.0) - 1.1111111000000002% \t\t\n",
      "197009  -      ( 984)--(126.0) -  0.6666667% \t\t\n",
      "600101  -      (4741)--( 72.0) -  1.6666668% \t\t\n",
      "611045  -      (1640)--( 63.0) -  0.0333333% \t\t\n",
      "611357  -      (5236)--( 95.0) -  8.3333336% \t\t\n",
      "619921  -      (  20)--( 54.0) - 31.1111122% \t\tX\n",
      "620002  -      ( 948)--( 94.0) -  0.0222222% \t\t\n",
      "656019  -      (1555)--(100.0) - 0.005555560000000001% \t\t\n",
      "658776  -      ( 171)--( 81.0) - 0.0006666669999999999% \t\t\n",
      "660017  -      ( 941)--(101.0) - 1.1111111000000002% \t\t\n",
      "690307  -      ( 507)--( 98.0) - 3.3333334999999997% \t\t\n",
      "690380  -      (1743)--(106.0) -  0.0333333% \t\t\n",
      "690980  -      ( 339)--( 21.0) - 0.055555600000000004% \t\tX\n",
      "902958  -      ( 620)--(120.0) - 1.1111111000000002% \t\t\n",
      "Components with FP < 60: 7\n"
     ]
    }
   ],
   "source": [
    "# md.print_form2(md.dsp.iloc[0])\n",
    "# PBV11270AD\n",
    "# md.print_form2(md.dst[md.dst[\"M\"]==100456].iloc[0])\n",
    "md.print_form2(md.dsp[md.dsp[\"M\"]=='PBV11270AD'].iloc[0])\n",
    "\n",
    "# astr = md.get_components(md.dsp.iloc[0])\n",
    "\n",
    "# print(astr)\n",
    "\n",
    "def print_list(astr, name = \"/_logs_tr3\" ):\n",
    "    file = md.LOGDAT +  name + \".txt\" # + md.DESC +\n",
    "    f = open(file, 'w')\n",
    "    for line in astr:\n",
    "        f.write(line + \"\\n\") \n",
    "    f.close()       #close file"
   ]
  },
  {
   "cell_type": "code",
   "execution_count": null,
   "metadata": {},
   "outputs": [],
   "source": []
  },
  {
   "cell_type": "code",
   "execution_count": null,
   "metadata": {},
   "outputs": [],
   "source": []
  },
  {
   "cell_type": "code",
   "execution_count": null,
   "metadata": {},
   "outputs": [],
   "source": []
  }
 ],
 "metadata": {
  "kernelspec": {
   "display_name": "Python 3",
   "language": "python",
   "name": "python3"
  },
  "language_info": {
   "codemirror_mode": {
    "name": "ipython",
    "version": 3
   },
   "file_extension": ".py",
   "mimetype": "text/x-python",
   "name": "python",
   "nbconvert_exporter": "python",
   "pygments_lexer": "ipython3",
   "version": "3.5.2"
  }
 },
 "nbformat": 4,
 "nbformat_minor": 2
}
