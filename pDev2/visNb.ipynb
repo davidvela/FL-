{
 "cells": [
  {
   "cell_type": "markdown",
   "metadata": {
    "heading_collapsed": true
   },
   "source": [
    "# Visualizations \n",
    "\n",
    "Encoding: \n",
    "\n",
    "<p> C2 - \n",
    "    * 0: <60     \n",
    "    * 1: >60 \n",
    "<p> C4 - \n",
    "    * 0: <23     \n",
    "    * 1: <60      \n",
    "    * 2: <93      \n",
    "    * 3: >93  \n",
    "<p> C1 - 1 for each number from 0 to 101\n",
    "\n"
   ]
  },
  {
   "cell_type": "code",
   "execution_count": 3,
   "metadata": {
    "hidden": true
   },
   "outputs": [],
   "source": [
    "# IMPORTS \n",
    "import pandas as pd \n",
    "import numpy as np \n",
    "import tensorflow as tf \n",
    "import matplotlib.pyplot as plt\n",
    "import time "
   ]
  },
  {
   "cell_type": "code",
   "execution_count": 4,
   "metadata": {
    "hidden": true
   },
   "outputs": [],
   "source": [
    "def c2(df, rv=1):\n",
    "    if rv == 1:\n",
    "        if( df < 60 ):                  return [1,0]  \n",
    "        elif( df >= 60 ):               return [0,1]      \n",
    "    elif rf==2: \n",
    "        if( df < 60 ):                  return 0\n",
    "        elif( df >= 60 ):               return 1\n",
    "def c4(df, rv=1):\n",
    "    \n",
    "    if rv == 1:\n",
    "        if( df < 23 ):                  return [1,0,0,0]  #0\n",
    "        elif( df >= 23 and df < 60 ):   return [0,1,0,0]  #1\n",
    "        elif( df >= 60 and df < 93 ):   return [0,0,1,0]  #2\n",
    "        elif( df >= 93 ):               return [0,0,0,1]  #3    \n",
    "    elif rv==2: \n",
    "        if( df < 23 ):                  return 0\n",
    "        elif( df >= 23 and df < 60 ):   return 1\n",
    "        elif( df >= 60 and df < 93 ):   return 2\n",
    "        elif( df >= 93 ):               return 3\n",
    "    # elif rf==3: \n",
    "    #     if  ( df == [1,0,0,0] ):        return 0 \n",
    "    #     elif( df == [0,1,0,0] ):        return 1\n",
    "    #     elif( df == [0,0,1,0] ):        return 2  \n",
    "    #     elif( df == [0,0,0,1] ):        return 3  \n",
    "def cN(df):\n",
    "    global nout\n",
    "    listofzeros = [0] * nout\n",
    "    dfIndex = df #//nRange\n",
    "    # print('{} and {}', (df,dfIndex))\n",
    "    if    0 < dfIndex < nout:   listofzeros[dfIndex] = 1\n",
    "    elif  dfIndex < 0:          listofzeros[0]       = 1\n",
    "    elif  dfIndex >= nout:      listofzeros[nout-1]  = 1\n",
    "    \n",
    "    return listofzeros \n",
    "\n",
    "def cc(x, rv=1):\n",
    "    global nout\n",
    "    if   dType == 'C4':  nout = 4;   return c4(x, rv);\n",
    "    elif dType == 'C1':  nout = 102; return cN(x); \n",
    "    elif dType == 'C2':  nout = 2;   return c2(x, rv);"
   ]
  },
  {
   "cell_type": "markdown",
   "metadata": {},
   "source": [
    "# Read"
   ]
  },
  {
   "cell_type": "code",
   "execution_count": 11,
   "metadata": {},
   "outputs": [
    {
     "name": "stdout",
     "output_type": "stream",
     "text": [
      "5.079492568969727\n"
     ]
    }
   ],
   "source": [
    "start = time.time()\n",
    "# 1- Get data: \n",
    "path = outfile = '../../data/FRFLO/datasc.csv' \n",
    "# path = outfile = '../../data/FLALL/datasc.csv' \n",
    "dst  =  pd.read_csv( tf.gfile.Open(path), sep=None, skipinitialspace=True,  engine=\"python\")\n",
    "elapsed_time = float(time.time() - start)\n",
    "print(elapsed_time)"
   ]
  },
  {
   "cell_type": "code",
   "execution_count": 29,
   "metadata": {},
   "outputs": [
    {
     "name": "stdout",
     "output_type": "stream",
     "text": [
      "<class 'pandas.core.frame.DataFrame'>\n",
      "RangeIndex: 9610 entries, 0 to 9609\n",
      "Columns: 1816 entries, M to 998168\n",
      "dtypes: float64(1814), int64(2)\n",
      "memory usage: 133.1 MB\n"
     ]
    }
   ],
   "source": [
    "# dst.describe()\n",
    "dst.info()\n",
    "# dst.shape \n",
    "# dst.isnull().any() \n",
    "\n",
    "dst = dst.fillna(0)\n"
   ]
  },
  {
   "cell_type": "markdown",
   "metadata": {
    "heading_collapsed": true
   },
   "source": [
    "# vis Basic"
   ]
  },
  {
   "cell_type": "code",
   "execution_count": 5,
   "metadata": {
    "collapsed": true,
    "hidden": true
   },
   "outputs": [],
   "source": [
    "Y  = dst.loc[:,'FP'].as_matrix().tolist()\n",
    "X  = dst.loc[:, 'M'].as_matrix().tolist()\n",
    "a = 1\n",
    "if a == 0: \n",
    "    plt.hist(Y)\n",
    "else: \n",
    "    plt.xlabel('M')\n",
    "    plt.ylabel('FP')\n",
    "    plt.grid(True)\n",
    "    N = 2 #50\n",
    "    colors = np.random.rand(N)\n",
    "    area = 1 #np.pi * (15 * np.random.rand(N))**2  # 0 to 15 point radii\n",
    "    #plt.plot(X, Y, color='blue', marker='o', label='FP Comp')\n",
    "    #plt.plot(X, Y, 'bo', label='FP Comp')\n",
    "    plt.scatter(X,Y, s=6, c='b', marker='o', cmap=None, norm=None, vmin=60, vmax=101, alpha=None,  label='FP Comp')\n",
    "    plt.legend()"
   ]
  },
  {
   "cell_type": "code",
   "execution_count": 6,
   "metadata": {
    "hidden": true
   },
   "outputs": [
    {
     "data": {
      "image/png": "[encoded data removed]",
      "text/plain": [
       "<matplotlib.figure.Figure at 0x1f996128>"
      ]
     },
     "metadata": {},
     "output_type": "display_data"
    }
   ],
   "source": [
    "plt.show()"
   ]
  },
  {
   "cell_type": "markdown",
   "metadata": {
    "heading_collapsed": true
   },
   "source": [
    "# vis 1 - Single Cx in Formulations.\n",
    "color - FP - legend <br>\n",
    "y = Quantity of the comp Cx -- <br>\n",
    "x = M <br>\n",
    "<br><br>\n",
    "\n",
    "clean up - drop the M that does not contain Cx "
   ]
  },
  {
   "cell_type": "code",
   "execution_count": 13,
   "metadata": {
    "collapsed": true,
    "hidden": true
   },
   "outputs": [],
   "source": [
    "#*********************************************************************\n",
    "# paint \n",
    "#*********************************************************************  \n",
    "def paint_plot(data,  component ,clase,m=\"o\"):\n",
    "    colors = list()\n",
    "    palette = {0: \"red\", 1: \"green\", 2: \"blue\"}\n",
    "    x = data[ data['FPP'] == clase ][\"M\"]\n",
    "    y = data[ data['FPP'] == clase ][component]\n",
    "    plt.scatter(x, y , edgecolors='k',s=50, alpha=0.9, marker=m,label=str(clase))\n",
    "    \n",
    "def paint(data, component):\n",
    "    #color=plt.rainbow(np.linspace(0,1,nn))\n",
    "    for i in rr: \n",
    "        #c=next(color)\n",
    "        paint_plot(data, component, i)\n",
    "    plt.legend()\n",
    "    plt.show()"
   ]
  },
  {
   "cell_type": "code",
   "execution_count": 14,
   "metadata": {
    "collapsed": true,
    "hidden": true
   },
   "outputs": [],
   "source": [
    "com = \"160102\" #c922 - 160102 - 121 dipropylene glycol \n",
    "com = \"131104\" #c738 - 131104 - 44  hexenol cis 3 \n",
    "com = \"100023\"\n",
    "# com = \"100025\""
   ]
  },
  {
   "cell_type": "code",
   "execution_count": 15,
   "metadata": {
    "collapsed": true,
    "hidden": true
   },
   "outputs": [],
   "source": [
    "# tags_data.isnull().any()\n",
    "# tags_data.dopna()"
   ]
  },
  {
   "cell_type": "code",
   "execution_count": 16,
   "metadata": {
    "collapsed": true,
    "hidden": true
   },
   "outputs": [],
   "source": [
    "# read components file ... \n",
    "path = outfile = '../../data/FRFLO/datac.csv' \n",
    "# path = outfile = '../../data/FLALL/datasc.csv' \n",
    "col_df = pd.read_csv(path, index_col=2, sep=',', usecols=[0,1,2,3])    "
   ]
  },
  {
   "cell_type": "code",
   "execution_count": 17,
   "metadata": {
    "collapsed": true,
    "hidden": true
   },
   "outputs": [],
   "source": [
    "# col_df.describe()\n",
    "# col_df.head()"
   ]
  },
  {
   "cell_type": "code",
   "execution_count": 18,
   "metadata": {
    "hidden": true
   },
   "outputs": [
    {
     "data": {
      "text/plain": [
       "cc     c1\n",
       "tot     3\n",
       "fp     73\n",
       "Name: 100023, dtype: object"
      ]
     },
     "execution_count": 18,
     "metadata": {},
     "output_type": "execute_result"
    }
   ],
   "source": [
    "col_df.loc[int(com)]"
   ]
  },
  {
   "cell_type": "code",
   "execution_count": 19,
   "metadata": {
    "collapsed": true,
    "hidden": true
   },
   "outputs": [],
   "source": [
    "# encode the FP \n",
    "dType = \"C4\"\n",
    "if   dType == 'C4':  nn = 4\n",
    "elif dType == 'C1':  nn = 100\n",
    "elif dType == 'C2':  nn = 2\n",
    "rr = range(nn)\n",
    "\n",
    "# dst.insert(2, 'FPP', dst['FP'].map(lambda x: cc(x)))  \n",
    "dst[\"FPP\"] = dst['FP'].map(lambda x: cc(x, rv=2))"
   ]
  },
  {
   "cell_type": "code",
   "execution_count": null,
   "metadata": {
    "collapsed": true,
    "hidden": true
   },
   "outputs": [],
   "source": []
  },
  {
   "cell_type": "code",
   "execution_count": 20,
   "metadata": {
    "hidden": true
   },
   "outputs": [
    {
     "data": {
      "text/html": [
       "<div>\n",
       "<style>\n",
       "    .dataframe thead tr:only-child th {\n",
       "        text-align: right;\n",
       "    }\n",
       "\n",
       "    .dataframe thead th {\n",
       "        text-align: left;\n",
       "    }\n",
       "\n",
       "    .dataframe tbody tr th {\n",
       "        vertical-align: top;\n",
       "    }\n",
       "</style>\n",
       "<table border=\"1\" class=\"dataframe\">\n",
       "  <thead>\n",
       "    <tr style=\"text-align: right;\">\n",
       "      <th></th>\n",
       "      <th>M</th>\n",
       "      <th>FPP</th>\n",
       "      <th>100023</th>\n",
       "    </tr>\n",
       "  </thead>\n",
       "  <tbody>\n",
       "    <tr>\n",
       "      <th>5103</th>\n",
       "      <td>714127</td>\n",
       "      <td>3</td>\n",
       "      <td>2.110000e-07</td>\n",
       "    </tr>\n",
       "    <tr>\n",
       "      <th>6262</th>\n",
       "      <td>752053</td>\n",
       "      <td>2</td>\n",
       "      <td>3.710000e-06</td>\n",
       "    </tr>\n",
       "    <tr>\n",
       "      <th>9572</th>\n",
       "      <td>962547</td>\n",
       "      <td>3</td>\n",
       "      <td>1.500000e-05</td>\n",
       "    </tr>\n",
       "  </tbody>\n",
       "</table>\n",
       "</div>"
      ],
      "text/plain": [
       "           M  FPP        100023\n",
       "5103  714127    3  2.110000e-07\n",
       "6262  752053    2  3.710000e-06\n",
       "9572  962547    3  1.500000e-05"
      ]
     },
     "execution_count": 20,
     "metadata": {},
     "output_type": "execute_result"
    }
   ],
   "source": [
    "# drop all the columns except the index, 2 and the com \n",
    "dst.columns[2:4]\n",
    "dstt = dst[[\"M\", \"FPP\", com]]\n",
    "dst.head()\n",
    "dstt = dstt.dropna()\n",
    "dstt"
   ]
  },
  {
   "cell_type": "code",
   "execution_count": 14,
   "metadata": {
    "hidden": true
   },
   "outputs": [
    {
     "data": {
      "image/png": "[encoded data removed]",
      "text/plain": [
       "<matplotlib.figure.Figure at 0x1fd96ef0>"
      ]
     },
     "metadata": {},
     "output_type": "display_data"
    }
   ],
   "source": [
    "paint(dst, com)"
   ]
  },
  {
   "cell_type": "code",
   "execution_count": 16,
   "metadata": {
    "hidden": true
   },
   "outputs": [
    {
     "data": {
      "text/plain": [
       "4"
      ]
     },
     "execution_count": 16,
     "metadata": {},
     "output_type": "execute_result"
    }
   ],
   "source": [
    "nn"
   ]
  },
  {
   "cell_type": "code",
   "execution_count": null,
   "metadata": {
    "collapsed": true,
    "hidden": true
   },
   "outputs": [],
   "source": []
  },
  {
   "cell_type": "markdown",
   "metadata": {
    "heading_collapsed": true
   },
   "source": [
    "# vis 2 - All C\n",
    "color - FP - legend <br>\n",
    "y = Cantidad of the c Cx -- <br>\n",
    "x = Cx <br>\n",
    "<br><br>\n",
    "something interesting would be to know what is the amount that is normally use for each component... *dst.describe()d"
   ]
  },
  {
   "cell_type": "code",
   "execution_count": null,
   "metadata": {
    "collapsed": true,
    "hidden": true
   },
   "outputs": [],
   "source": []
  },
  {
   "cell_type": "code",
   "execution_count": null,
   "metadata": {
    "collapsed": true,
    "hidden": true
   },
   "outputs": [],
   "source": []
  },
  {
   "cell_type": "code",
   "execution_count": null,
   "metadata": {
    "collapsed": true,
    "hidden": true
   },
   "outputs": [],
   "source": []
  },
  {
   "cell_type": "code",
   "execution_count": null,
   "metadata": {
    "collapsed": true,
    "hidden": true
   },
   "outputs": [],
   "source": []
  },
  {
   "cell_type": "markdown",
   "metadata": {},
   "source": [
    "# exp. \n",
    "1. get components used in each formulation \n",
    "2. replace this numbers for 1 -> Embeddings"
   ]
  },
  {
   "cell_type": "code",
   "execution_count": 30,
   "metadata": {},
   "outputs": [
    {
     "data": {
      "text/plain": [
       "3"
      ]
     },
     "execution_count": 30,
     "metadata": {},
     "output_type": "execute_result"
    }
   ],
   "source": [
    "# dst.head()\n",
    "len(dst[com].nonzero()[0])"
   ]
  },
  {
   "cell_type": "code",
   "execution_count": 12,
   "metadata": {},
   "outputs": [
    {
     "data": {
      "text/html": [
       "<div>\n",
       "<style>\n",
       "    .dataframe thead tr:only-child th {\n",
       "        text-align: right;\n",
       "    }\n",
       "\n",
       "    .dataframe thead th {\n",
       "        text-align: left;\n",
       "    }\n",
       "\n",
       "    .dataframe tbody tr th {\n",
       "        vertical-align: top;\n",
       "    }\n",
       "</style>\n",
       "<table border=\"1\" class=\"dataframe\">\n",
       "  <thead>\n",
       "    <tr style=\"text-align: right;\">\n",
       "      <th></th>\n",
       "      <th>M</th>\n",
       "      <th>FP</th>\n",
       "      <th>100023</th>\n",
       "      <th>100025</th>\n",
       "      <th>100028</th>\n",
       "      <th>100034</th>\n",
       "      <th>100041</th>\n",
       "      <th>100060</th>\n",
       "      <th>100061</th>\n",
       "      <th>100070</th>\n",
       "      <th>...</th>\n",
       "      <th>964392</th>\n",
       "      <th>972612</th>\n",
       "      <th>978488</th>\n",
       "      <th>982437</th>\n",
       "      <th>982440</th>\n",
       "      <th>983685</th>\n",
       "      <th>983686</th>\n",
       "      <th>996041</th>\n",
       "      <th>998063</th>\n",
       "      <th>998168</th>\n",
       "    </tr>\n",
       "  </thead>\n",
       "  <tbody>\n",
       "    <tr>\n",
       "      <th>count</th>\n",
       "      <td>9610.000000</td>\n",
       "      <td>9610.000000</td>\n",
       "      <td>3.000000e+00</td>\n",
       "      <td>17.000000</td>\n",
       "      <td>6.680000e+02</td>\n",
       "      <td>1.940000e+02</td>\n",
       "      <td>219.000000</td>\n",
       "      <td>52.000000</td>\n",
       "      <td>4.000000</td>\n",
       "      <td>3.820000e+02</td>\n",
       "      <td>...</td>\n",
       "      <td>2.000000</td>\n",
       "      <td>3.000000e+00</td>\n",
       "      <td>1.340000e+02</td>\n",
       "      <td>188.000000</td>\n",
       "      <td>3.000000</td>\n",
       "      <td>63.000000</td>\n",
       "      <td>67.000000</td>\n",
       "      <td>1.000</td>\n",
       "      <td>1.800000e+01</td>\n",
       "      <td>1.000</td>\n",
       "    </tr>\n",
       "    <tr>\n",
       "      <th>mean</th>\n",
       "      <td>601962.775963</td>\n",
       "      <td>87.214256</td>\n",
       "      <td>6.307000e-06</td>\n",
       "      <td>0.000797</td>\n",
       "      <td>5.443630e-04</td>\n",
       "      <td>5.639133e-04</td>\n",
       "      <td>0.005630</td>\n",
       "      <td>0.000631</td>\n",
       "      <td>0.000474</td>\n",
       "      <td>4.026940e-04</td>\n",
       "      <td>...</td>\n",
       "      <td>0.006761</td>\n",
       "      <td>2.169000e-11</td>\n",
       "      <td>5.467359e-04</td>\n",
       "      <td>0.390481</td>\n",
       "      <td>0.000419</td>\n",
       "      <td>0.003023</td>\n",
       "      <td>0.000618</td>\n",
       "      <td>0.075</td>\n",
       "      <td>7.924552e-04</td>\n",
       "      <td>0.001</td>\n",
       "    </tr>\n",
       "    <tr>\n",
       "      <th>std</th>\n",
       "      <td>242149.031945</td>\n",
       "      <td>10.047519</td>\n",
       "      <td>7.728967e-06</td>\n",
       "      <td>0.000373</td>\n",
       "      <td>1.941300e-03</td>\n",
       "      <td>2.434424e-03</td>\n",
       "      <td>0.006617</td>\n",
       "      <td>0.000638</td>\n",
       "      <td>0.000109</td>\n",
       "      <td>4.481518e-03</td>\n",
       "      <td>...</td>\n",
       "      <td>0.000723</td>\n",
       "      <td>3.750758e-11</td>\n",
       "      <td>2.247094e-03</td>\n",
       "      <td>0.167917</td>\n",
       "      <td>0.000212</td>\n",
       "      <td>0.011062</td>\n",
       "      <td>0.000905</td>\n",
       "      <td>NaN</td>\n",
       "      <td>1.766641e-03</td>\n",
       "      <td>NaN</td>\n",
       "    </tr>\n",
       "    <tr>\n",
       "      <th>min</th>\n",
       "      <td>100456.000000</td>\n",
       "      <td>5.000000</td>\n",
       "      <td>2.110000e-07</td>\n",
       "      <td>0.000005</td>\n",
       "      <td>1.000000e-14</td>\n",
       "      <td>3.570000e-10</td>\n",
       "      <td>0.000050</td>\n",
       "      <td>0.000014</td>\n",
       "      <td>0.000364</td>\n",
       "      <td>2.100000e-12</td>\n",
       "      <td>...</td>\n",
       "      <td>0.006250</td>\n",
       "      <td>0.000000e+00</td>\n",
       "      <td>1.260000e-12</td>\n",
       "      <td>0.082000</td>\n",
       "      <td>0.000294</td>\n",
       "      <td>0.000011</td>\n",
       "      <td>0.000039</td>\n",
       "      <td>0.075</td>\n",
       "      <td>1.200000e-11</td>\n",
       "      <td>0.001</td>\n",
       "    </tr>\n",
       "    <tr>\n",
       "      <th>25%</th>\n",
       "      <td>394230.000000</td>\n",
       "      <td>82.000000</td>\n",
       "      <td>1.960500e-06</td>\n",
       "      <td>0.000528</td>\n",
       "      <td>5.250000e-05</td>\n",
       "      <td>5.000000e-07</td>\n",
       "      <td>0.001464</td>\n",
       "      <td>0.000256</td>\n",
       "      <td>0.000432</td>\n",
       "      <td>5.700000e-07</td>\n",
       "      <td>...</td>\n",
       "      <td>0.006506</td>\n",
       "      <td>3.500000e-14</td>\n",
       "      <td>1.515000e-06</td>\n",
       "      <td>0.253300</td>\n",
       "      <td>0.000297</td>\n",
       "      <td>0.000465</td>\n",
       "      <td>0.000200</td>\n",
       "      <td>0.075</td>\n",
       "      <td>3.800000e-06</td>\n",
       "      <td>0.001</td>\n",
       "    </tr>\n",
       "    <tr>\n",
       "      <th>50%</th>\n",
       "      <td>704052.000000</td>\n",
       "      <td>89.000000</td>\n",
       "      <td>3.710000e-06</td>\n",
       "      <td>0.001000</td>\n",
       "      <td>1.764710e-04</td>\n",
       "      <td>3.725000e-06</td>\n",
       "      <td>0.003182</td>\n",
       "      <td>0.000455</td>\n",
       "      <td>0.000455</td>\n",
       "      <td>8.715000e-06</td>\n",
       "      <td>...</td>\n",
       "      <td>0.006761</td>\n",
       "      <td>7.000000e-14</td>\n",
       "      <td>1.835000e-05</td>\n",
       "      <td>0.387500</td>\n",
       "      <td>0.000300</td>\n",
       "      <td>0.001250</td>\n",
       "      <td>0.000375</td>\n",
       "      <td>0.075</td>\n",
       "      <td>6.400000e-06</td>\n",
       "      <td>0.001</td>\n",
       "    </tr>\n",
       "    <tr>\n",
       "      <th>75%</th>\n",
       "      <td>777086.750000</td>\n",
       "      <td>95.000000</td>\n",
       "      <td>9.355000e-06</td>\n",
       "      <td>0.001000</td>\n",
       "      <td>5.000000e-04</td>\n",
       "      <td>1.025860e-04</td>\n",
       "      <td>0.007314</td>\n",
       "      <td>0.000700</td>\n",
       "      <td>0.000497</td>\n",
       "      <td>6.670000e-05</td>\n",
       "      <td>...</td>\n",
       "      <td>0.007017</td>\n",
       "      <td>3.253500e-11</td>\n",
       "      <td>1.040000e-04</td>\n",
       "      <td>0.530500</td>\n",
       "      <td>0.000482</td>\n",
       "      <td>0.002034</td>\n",
       "      <td>0.000500</td>\n",
       "      <td>0.075</td>\n",
       "      <td>4.411135e-04</td>\n",
       "      <td>0.001</td>\n",
       "    </tr>\n",
       "    <tr>\n",
       "      <th>max</th>\n",
       "      <td>963939.000000</td>\n",
       "      <td>101.000000</td>\n",
       "      <td>1.500000e-05</td>\n",
       "      <td>0.001111</td>\n",
       "      <td>4.285714e-02</td>\n",
       "      <td>3.000000e-02</td>\n",
       "      <td>0.047059</td>\n",
       "      <td>0.002857</td>\n",
       "      <td>0.000625</td>\n",
       "      <td>8.571429e-02</td>\n",
       "      <td>...</td>\n",
       "      <td>0.007273</td>\n",
       "      <td>6.500000e-11</td>\n",
       "      <td>1.500000e-02</td>\n",
       "      <td>0.729500</td>\n",
       "      <td>0.000664</td>\n",
       "      <td>0.088571</td>\n",
       "      <td>0.005000</td>\n",
       "      <td>0.075</td>\n",
       "      <td>7.001520e-03</td>\n",
       "      <td>0.001</td>\n",
       "    </tr>\n",
       "  </tbody>\n",
       "</table>\n",
       "<p>8 rows × 1816 columns</p>\n",
       "</div>"
      ],
      "text/plain": [
       "                   M           FP        100023     100025        100028  \\\n",
       "count    9610.000000  9610.000000  3.000000e+00  17.000000  6.680000e+02   \n",
       "mean   601962.775963    87.214256  6.307000e-06   0.000797  5.443630e-04   \n",
       "std    242149.031945    10.047519  7.728967e-06   0.000373  1.941300e-03   \n",
       "min    100456.000000     5.000000  2.110000e-07   0.000005  1.000000e-14   \n",
       "25%    394230.000000    82.000000  1.960500e-06   0.000528  5.250000e-05   \n",
       "50%    704052.000000    89.000000  3.710000e-06   0.001000  1.764710e-04   \n",
       "75%    777086.750000    95.000000  9.355000e-06   0.001000  5.000000e-04   \n",
       "max    963939.000000   101.000000  1.500000e-05   0.001111  4.285714e-02   \n",
       "\n",
       "             100034      100041     100060    100061        100070   ...    \\\n",
       "count  1.940000e+02  219.000000  52.000000  4.000000  3.820000e+02   ...     \n",
       "mean   5.639133e-04    0.005630   0.000631  0.000474  4.026940e-04   ...     \n",
       "std    2.434424e-03    0.006617   0.000638  0.000109  4.481518e-03   ...     \n",
       "min    3.570000e-10    0.000050   0.000014  0.000364  2.100000e-12   ...     \n",
       "25%    5.000000e-07    0.001464   0.000256  0.000432  5.700000e-07   ...     \n",
       "50%    3.725000e-06    0.003182   0.000455  0.000455  8.715000e-06   ...     \n",
       "75%    1.025860e-04    0.007314   0.000700  0.000497  6.670000e-05   ...     \n",
       "max    3.000000e-02    0.047059   0.002857  0.000625  8.571429e-02   ...     \n",
       "\n",
       "         964392        972612        978488      982437    982440     983685  \\\n",
       "count  2.000000  3.000000e+00  1.340000e+02  188.000000  3.000000  63.000000   \n",
       "mean   0.006761  2.169000e-11  5.467359e-04    0.390481  0.000419   0.003023   \n",
       "std    0.000723  3.750758e-11  2.247094e-03    0.167917  0.000212   0.011062   \n",
       "min    0.006250  0.000000e+00  1.260000e-12    0.082000  0.000294   0.000011   \n",
       "25%    0.006506  3.500000e-14  1.515000e-06    0.253300  0.000297   0.000465   \n",
       "50%    0.006761  7.000000e-14  1.835000e-05    0.387500  0.000300   0.001250   \n",
       "75%    0.007017  3.253500e-11  1.040000e-04    0.530500  0.000482   0.002034   \n",
       "max    0.007273  6.500000e-11  1.500000e-02    0.729500  0.000664   0.088571   \n",
       "\n",
       "          983686  996041        998063  998168  \n",
       "count  67.000000   1.000  1.800000e+01   1.000  \n",
       "mean    0.000618   0.075  7.924552e-04   0.001  \n",
       "std     0.000905     NaN  1.766641e-03     NaN  \n",
       "min     0.000039   0.075  1.200000e-11   0.001  \n",
       "25%     0.000200   0.075  3.800000e-06   0.001  \n",
       "50%     0.000375   0.075  6.400000e-06   0.001  \n",
       "75%     0.000500   0.075  4.411135e-04   0.001  \n",
       "max     0.005000   0.075  7.001520e-03   0.001  \n",
       "\n",
       "[8 rows x 1816 columns]"
      ]
     },
     "execution_count": 12,
     "metadata": {},
     "output_type": "execute_result"
    }
   ],
   "source": [
    "dst.describe()"
   ]
  },
  {
   "cell_type": "code",
   "execution_count": 33,
   "metadata": {},
   "outputs": [
    {
     "name": "stdout",
     "output_type": "stream",
     "text": [
      "total = 9610 and com: 100023 = 9607 null  \n"
     ]
    }
   ],
   "source": [
    "total = len(dst)\n",
    "com = \"100023\"\n",
    "# dst[com].describe()\n",
    "# dst[com].isnull().any() \n",
    "null = total - len(dst[com].nonzero()[0]) #for zeros \n",
    "# null = sum(pd.isnull(dst[com]))   # for null NA\n",
    "print( \"total = {} and com: {} = {} null  \".format(total,com, null))"
   ]
  },
  {
   "cell_type": "code",
   "execution_count": 10,
   "metadata": {},
   "outputs": [
    {
     "data": {
      "text/plain": [
       "9610"
      ]
     },
     "execution_count": 10,
     "metadata": {},
     "output_type": "execute_result"
    }
   ],
   "source": [
    "com = \"160102\" #c922 - 160102 - 121 dipropylene glycol \n",
    "com = \"131104\" #c738 - 131104 - 44  hexenol cis 3 \n",
    "com = \"100023\"\n",
    "total - sum(pd.isnull(dst[com]))"
   ]
  },
  {
   "cell_type": "markdown",
   "metadata": {
    "heading_collapsed": true
   },
   "source": [
    "# Replace amount for 1 - get comp in 1 form "
   ]
  },
  {
   "cell_type": "code",
   "execution_count": 20,
   "metadata": {
    "hidden": true
   },
   "outputs": [
    {
     "name": "stdout",
     "output_type": "stream",
     "text": [
      "72\n",
      "M FP 100202 100436 100595 102137 103011 103026 103250 103258 103500 103587 103798 103828 103908 104756 105492 105587 105598 105893 106018 106184 106216 106738 113554 116041 116165 130041 130065 130122 130141 130149 130237 130298 130520 130524 130837 130879 130965 131030 131104 131185 131225 131364 131381 131394 131395 131423 131431 131503 160102 160221 160241 162053 170021 172799 195651 195878 197010 197012 197016 600278 611073 611161 611402 638257 656021 660345 660354 690307 903748 903766\n",
      "100566.0 81.0 6e-06 0.02 0.003 1.5e-08 0.005 0.04 3.75e-06 0.015 0.003 7.5e-07 3e-05 0.02 0.02 3e-06 7.5e-05 2.25e-08 0.0005 0.01 0.002 0.005200015 2.7e-08 0.0004 0.0012 3e-05 1.2e-07 0.04 9e-07 0.00055 4.5e-08 4.5e-06 0.0002565 9e-06 0.0741 0.0772 0.0004 3e-05 0.03 0.2508 1.5e-06 7.5e-10 2.25e-09 1e-05 0.003 7.5e-08 1.5e-08 8e-05 4e-07 0.0002 0.2877106 6.23e-06 0.0004 9.93e-06 0.019 4.5e-09 1.5e-06 0.0005 0.003 0.0005 0.01 0.005 4.5e-07 1.5e-07 3.75e-06 7.5e-07 5e-05 0.001 0.0001 0.0006 2.5e-05 0.05\n"
     ]
    }
   ],
   "source": [
    "ds =  dst.iloc[1]\n",
    "print(len(ds.iloc[ds.nonzero()]))\n",
    "# print(ds.iloc[ds.nonzero()])\n",
    "print(*ds.iloc[ds.nonzero()].index)\n",
    "print(*ds.iloc[ds.nonzero()])\n"
   ]
  },
  {
   "cell_type": "code",
   "execution_count": 46,
   "metadata": {
    "hidden": true
   },
   "outputs": [
    {
     "name": "stdout",
     "output_type": "stream",
     "text": [
      "72\n",
      "72\n"
     ]
    },
    {
     "data": {
      "text/html": [
       "<div>\n",
       "<style>\n",
       "    .dataframe thead tr:only-child th {\n",
       "        text-align: right;\n",
       "    }\n",
       "\n",
       "    .dataframe thead th {\n",
       "        text-align: left;\n",
       "    }\n",
       "\n",
       "    .dataframe tbody tr th {\n",
       "        vertical-align: top;\n",
       "    }\n",
       "</style>\n",
       "<table border=\"1\" class=\"dataframe\">\n",
       "  <thead>\n",
       "    <tr style=\"text-align: right;\">\n",
       "      <th></th>\n",
       "      <th>M</th>\n",
       "      <th>FP</th>\n",
       "      <th>100023</th>\n",
       "      <th>100025</th>\n",
       "      <th>100028</th>\n",
       "      <th>100034</th>\n",
       "      <th>100041</th>\n",
       "      <th>100060</th>\n",
       "      <th>100061</th>\n",
       "      <th>100070</th>\n",
       "      <th>...</th>\n",
       "      <th>964392</th>\n",
       "      <th>972612</th>\n",
       "      <th>978488</th>\n",
       "      <th>982437</th>\n",
       "      <th>982440</th>\n",
       "      <th>983685</th>\n",
       "      <th>983686</th>\n",
       "      <th>996041</th>\n",
       "      <th>998063</th>\n",
       "      <th>998168</th>\n",
       "    </tr>\n",
       "  </thead>\n",
       "  <tbody>\n",
       "    <tr>\n",
       "      <th>0</th>\n",
       "      <td>100456</td>\n",
       "      <td>96</td>\n",
       "      <td>0.0</td>\n",
       "      <td>0.0</td>\n",
       "      <td>0.000000</td>\n",
       "      <td>0.0</td>\n",
       "      <td>0.0</td>\n",
       "      <td>0.0</td>\n",
       "      <td>0.0</td>\n",
       "      <td>0.0</td>\n",
       "      <td>...</td>\n",
       "      <td>0.0</td>\n",
       "      <td>0.0</td>\n",
       "      <td>0.0</td>\n",
       "      <td>0.0</td>\n",
       "      <td>0.0</td>\n",
       "      <td>0.0</td>\n",
       "      <td>0.0</td>\n",
       "      <td>0.0</td>\n",
       "      <td>0.0</td>\n",
       "      <td>0.0</td>\n",
       "    </tr>\n",
       "    <tr>\n",
       "      <th>1</th>\n",
       "      <td>100566</td>\n",
       "      <td>81</td>\n",
       "      <td>0.0</td>\n",
       "      <td>0.0</td>\n",
       "      <td>0.000000</td>\n",
       "      <td>0.0</td>\n",
       "      <td>0.0</td>\n",
       "      <td>0.0</td>\n",
       "      <td>0.0</td>\n",
       "      <td>0.0</td>\n",
       "      <td>...</td>\n",
       "      <td>0.0</td>\n",
       "      <td>0.0</td>\n",
       "      <td>0.0</td>\n",
       "      <td>0.0</td>\n",
       "      <td>0.0</td>\n",
       "      <td>0.0</td>\n",
       "      <td>0.0</td>\n",
       "      <td>0.0</td>\n",
       "      <td>0.0</td>\n",
       "      <td>0.0</td>\n",
       "    </tr>\n",
       "    <tr>\n",
       "      <th>2</th>\n",
       "      <td>100645</td>\n",
       "      <td>93</td>\n",
       "      <td>0.0</td>\n",
       "      <td>0.0</td>\n",
       "      <td>0.000000</td>\n",
       "      <td>0.0</td>\n",
       "      <td>0.0</td>\n",
       "      <td>0.0</td>\n",
       "      <td>0.0</td>\n",
       "      <td>0.0</td>\n",
       "      <td>...</td>\n",
       "      <td>0.0</td>\n",
       "      <td>0.0</td>\n",
       "      <td>0.0</td>\n",
       "      <td>0.0</td>\n",
       "      <td>0.0</td>\n",
       "      <td>0.0</td>\n",
       "      <td>0.0</td>\n",
       "      <td>0.0</td>\n",
       "      <td>0.0</td>\n",
       "      <td>0.0</td>\n",
       "    </tr>\n",
       "    <tr>\n",
       "      <th>3</th>\n",
       "      <td>100669</td>\n",
       "      <td>23</td>\n",
       "      <td>0.0</td>\n",
       "      <td>0.0</td>\n",
       "      <td>0.000000</td>\n",
       "      <td>0.0</td>\n",
       "      <td>0.0</td>\n",
       "      <td>0.0</td>\n",
       "      <td>0.0</td>\n",
       "      <td>0.0</td>\n",
       "      <td>...</td>\n",
       "      <td>0.0</td>\n",
       "      <td>0.0</td>\n",
       "      <td>0.0</td>\n",
       "      <td>0.0</td>\n",
       "      <td>0.0</td>\n",
       "      <td>0.0</td>\n",
       "      <td>0.0</td>\n",
       "      <td>0.0</td>\n",
       "      <td>0.0</td>\n",
       "      <td>0.0</td>\n",
       "    </tr>\n",
       "    <tr>\n",
       "      <th>4</th>\n",
       "      <td>100683</td>\n",
       "      <td>94</td>\n",
       "      <td>0.0</td>\n",
       "      <td>0.0</td>\n",
       "      <td>0.000000</td>\n",
       "      <td>0.0</td>\n",
       "      <td>0.0</td>\n",
       "      <td>0.0</td>\n",
       "      <td>0.0</td>\n",
       "      <td>0.0</td>\n",
       "      <td>...</td>\n",
       "      <td>0.0</td>\n",
       "      <td>0.0</td>\n",
       "      <td>0.0</td>\n",
       "      <td>0.0</td>\n",
       "      <td>0.0</td>\n",
       "      <td>0.0</td>\n",
       "      <td>0.0</td>\n",
       "      <td>0.0</td>\n",
       "      <td>0.0</td>\n",
       "      <td>0.0</td>\n",
       "    </tr>\n",
       "    <tr>\n",
       "      <th>5</th>\n",
       "      <td>100688</td>\n",
       "      <td>93</td>\n",
       "      <td>0.0</td>\n",
       "      <td>0.0</td>\n",
       "      <td>0.000333</td>\n",
       "      <td>0.0</td>\n",
       "      <td>0.0</td>\n",
       "      <td>0.0</td>\n",
       "      <td>0.0</td>\n",
       "      <td>0.0</td>\n",
       "      <td>...</td>\n",
       "      <td>0.0</td>\n",
       "      <td>0.0</td>\n",
       "      <td>0.0</td>\n",
       "      <td>0.0</td>\n",
       "      <td>0.0</td>\n",
       "      <td>0.0</td>\n",
       "      <td>0.0</td>\n",
       "      <td>0.0</td>\n",
       "      <td>0.0</td>\n",
       "      <td>0.0</td>\n",
       "    </tr>\n",
       "    <tr>\n",
       "      <th>6</th>\n",
       "      <td>100714</td>\n",
       "      <td>56</td>\n",
       "      <td>0.0</td>\n",
       "      <td>0.0</td>\n",
       "      <td>0.000000</td>\n",
       "      <td>0.0</td>\n",
       "      <td>0.0</td>\n",
       "      <td>0.0</td>\n",
       "      <td>0.0</td>\n",
       "      <td>0.0</td>\n",
       "      <td>...</td>\n",
       "      <td>0.0</td>\n",
       "      <td>0.0</td>\n",
       "      <td>0.0</td>\n",
       "      <td>0.0</td>\n",
       "      <td>0.0</td>\n",
       "      <td>0.0</td>\n",
       "      <td>0.0</td>\n",
       "      <td>0.0</td>\n",
       "      <td>0.0</td>\n",
       "      <td>0.0</td>\n",
       "    </tr>\n",
       "    <tr>\n",
       "      <th>7</th>\n",
       "      <td>100906</td>\n",
       "      <td>82</td>\n",
       "      <td>0.0</td>\n",
       "      <td>0.0</td>\n",
       "      <td>0.000000</td>\n",
       "      <td>0.0</td>\n",
       "      <td>0.0</td>\n",
       "      <td>0.0</td>\n",
       "      <td>0.0</td>\n",
       "      <td>0.0</td>\n",
       "      <td>...</td>\n",
       "      <td>0.0</td>\n",
       "      <td>0.0</td>\n",
       "      <td>0.0</td>\n",
       "      <td>0.0</td>\n",
       "      <td>0.0</td>\n",
       "      <td>0.0</td>\n",
       "      <td>0.0</td>\n",
       "      <td>0.0</td>\n",
       "      <td>0.0</td>\n",
       "      <td>0.0</td>\n",
       "    </tr>\n",
       "    <tr>\n",
       "      <th>8</th>\n",
       "      <td>100955</td>\n",
       "      <td>88</td>\n",
       "      <td>0.0</td>\n",
       "      <td>0.0</td>\n",
       "      <td>0.000000</td>\n",
       "      <td>0.0</td>\n",
       "      <td>0.0</td>\n",
       "      <td>0.0</td>\n",
       "      <td>0.0</td>\n",
       "      <td>0.0</td>\n",
       "      <td>...</td>\n",
       "      <td>0.0</td>\n",
       "      <td>0.0</td>\n",
       "      <td>0.0</td>\n",
       "      <td>0.0</td>\n",
       "      <td>0.0</td>\n",
       "      <td>0.0</td>\n",
       "      <td>0.0</td>\n",
       "      <td>0.0</td>\n",
       "      <td>0.0</td>\n",
       "      <td>0.0</td>\n",
       "    </tr>\n",
       "    <tr>\n",
       "      <th>9</th>\n",
       "      <td>100991</td>\n",
       "      <td>97</td>\n",
       "      <td>0.0</td>\n",
       "      <td>0.0</td>\n",
       "      <td>0.000000</td>\n",
       "      <td>0.0</td>\n",
       "      <td>0.0</td>\n",
       "      <td>0.0</td>\n",
       "      <td>0.0</td>\n",
       "      <td>0.0</td>\n",
       "      <td>...</td>\n",
       "      <td>0.0</td>\n",
       "      <td>0.0</td>\n",
       "      <td>0.0</td>\n",
       "      <td>0.0</td>\n",
       "      <td>0.0</td>\n",
       "      <td>0.0</td>\n",
       "      <td>0.0</td>\n",
       "      <td>0.0</td>\n",
       "      <td>0.0</td>\n",
       "      <td>0.0</td>\n",
       "    </tr>\n",
       "  </tbody>\n",
       "</table>\n",
       "<p>10 rows × 1816 columns</p>\n",
       "</div>"
      ],
      "text/plain": [
       "        M  FP  100023  100025    100028  100034  100041  100060  100061  \\\n",
       "0  100456  96     0.0     0.0  0.000000     0.0     0.0     0.0     0.0   \n",
       "1  100566  81     0.0     0.0  0.000000     0.0     0.0     0.0     0.0   \n",
       "2  100645  93     0.0     0.0  0.000000     0.0     0.0     0.0     0.0   \n",
       "3  100669  23     0.0     0.0  0.000000     0.0     0.0     0.0     0.0   \n",
       "4  100683  94     0.0     0.0  0.000000     0.0     0.0     0.0     0.0   \n",
       "5  100688  93     0.0     0.0  0.000333     0.0     0.0     0.0     0.0   \n",
       "6  100714  56     0.0     0.0  0.000000     0.0     0.0     0.0     0.0   \n",
       "7  100906  82     0.0     0.0  0.000000     0.0     0.0     0.0     0.0   \n",
       "8  100955  88     0.0     0.0  0.000000     0.0     0.0     0.0     0.0   \n",
       "9  100991  97     0.0     0.0  0.000000     0.0     0.0     0.0     0.0   \n",
       "\n",
       "   100070   ...    964392  972612  978488  982437  982440  983685  983686  \\\n",
       "0     0.0   ...       0.0     0.0     0.0     0.0     0.0     0.0     0.0   \n",
       "1     0.0   ...       0.0     0.0     0.0     0.0     0.0     0.0     0.0   \n",
       "2     0.0   ...       0.0     0.0     0.0     0.0     0.0     0.0     0.0   \n",
       "3     0.0   ...       0.0     0.0     0.0     0.0     0.0     0.0     0.0   \n",
       "4     0.0   ...       0.0     0.0     0.0     0.0     0.0     0.0     0.0   \n",
       "5     0.0   ...       0.0     0.0     0.0     0.0     0.0     0.0     0.0   \n",
       "6     0.0   ...       0.0     0.0     0.0     0.0     0.0     0.0     0.0   \n",
       "7     0.0   ...       0.0     0.0     0.0     0.0     0.0     0.0     0.0   \n",
       "8     0.0   ...       0.0     0.0     0.0     0.0     0.0     0.0     0.0   \n",
       "9     0.0   ...       0.0     0.0     0.0     0.0     0.0     0.0     0.0   \n",
       "\n",
       "   996041  998063  998168  \n",
       "0     0.0     0.0     0.0  \n",
       "1     0.0     0.0     0.0  \n",
       "2     0.0     0.0     0.0  \n",
       "3     0.0     0.0     0.0  \n",
       "4     0.0     0.0     0.0  \n",
       "5     0.0     0.0     0.0  \n",
       "6     0.0     0.0     0.0  \n",
       "7     0.0     0.0     0.0  \n",
       "8     0.0     0.0     0.0  \n",
       "9     0.0     0.0     0.0  \n",
       "\n",
       "[10 rows x 1816 columns]"
      ]
     },
     "execution_count": 46,
     "metadata": {},
     "output_type": "execute_result"
    }
   ],
   "source": [
    "# get the indices of the array where it is not zero\n",
    "dst.iloc[0].nonzero()\n",
    "dst = dst.fillna(0)\n",
    "\n",
    "ds =  dst.iloc[1]\n",
    "# print(ds) \n",
    "print(len(ds.iloc[ds.nonzero()]))\n",
    "# print(len(ds.iloc[ds.notnull()]))\n",
    "print(len(ds.nonzero()[0]))\n",
    "dst.head(10)"
   ]
  },
  {
   "cell_type": "code",
   "execution_count": 13,
   "metadata": {
    "hidden": true
   },
   "outputs": [],
   "source": [
    "# for i, ds in dst.iterrows():\n",
    "#     print(len(ds.nonzero()[0]))\n"
   ]
  },
  {
   "cell_type": "code",
   "execution_count": 43,
   "metadata": {
    "hidden": true
   },
   "outputs": [],
   "source": [
    "# average of comp in form:\n",
    "def get_form_av0(dst):\n",
    "    av = 0\n",
    "    def ave(x):  global av; av += x\n",
    "    [ ave( len(ds.nonzero()[0]) ) for i, ds in dst.iterrows()]\n",
    "    print(av/len(dst))\n",
    "\n",
    "def get_form_av(dst):\n",
    "    dsv = [ len(ds.nonzero()[0]) for i, ds in dst.iterrows()]\n",
    "    print(\"mean: {},  max: {}, min: {} \".format( np.mean(dsv),np.max(dsv), np.min(dsv)  ))"
   ]
  },
  {
   "cell_type": "code",
   "execution_count": 51,
   "metadata": {
    "hidden": true
   },
   "outputs": [
    {
     "name": "stdout",
     "output_type": "stream",
     "text": [
      "mean: 70.0,  max: 70, min: 70 \n"
     ]
    }
   ],
   "source": [
    "form = 100456\n",
    "dsf = dst[dst[\"M\"] == form]\n",
    "get_form_av(dsf)\n",
    "# get_form_av(dst.loc[0:2] )"
   ]
  },
  {
   "cell_type": "code",
   "execution_count": 87,
   "metadata": {
    "hidden": true
   },
   "outputs": [
    {
     "data": {
      "text/plain": [
       "pandas.core.series.Series"
      ]
     },
     "execution_count": 87,
     "metadata": {},
     "output_type": "execute_result"
    }
   ],
   "source": [
    "# test to replace all the decimals for 1. \n",
    "\n",
    "pd.isnull(dst[com])\n",
    "type(pd.notnull(dst[com]))\n",
    "# pd.notnull(dst[com])\n",
    "\n",
    "# dst[com][pd.isnull(dst[com]) == False] \n",
    "# dst[com][pd.isnull(dst[com]) == False] = 1                               # warning! ??? \n",
    "# No warning: # .loc[row_index,col_indexer] = value instead\n",
    "\n",
    "# pd.isnull(dst.iloc[:,3])\n",
    "# dst[com][pd.isnull(dst.iloc[:,2]) == False]\n",
    "# type(dst[com][pd.isnull(dst.iloc[:,2]) == False])\n",
    "# dst.iloc[dst[com][pd.isnull(dst.iloc[:,2]) == False].index  , 2 ] = 1    # GOOD ONE \n",
    "\n",
    "#dst.iloc( [pd.isnull(dst.iloc[:,4]) == False])\n",
    "# .loc[row_index,col_indexer] = value instead"
   ]
  },
  {
   "cell_type": "code",
   "execution_count": null,
   "metadata": {
    "collapsed": true,
    "hidden": true
   },
   "outputs": [],
   "source": [
    "\n",
    "dsxx = [  ]\n",
    "\n"
   ]
  }
 ],
 "metadata": {
  "kernelspec": {
   "display_name": "Python 3",
   "language": "python",
   "name": "python3"
  },
  "language_info": {
   "codemirror_mode": {
    "name": "ipython",
    "version": 3
   },
   "file_extension": ".py",
   "mimetype": "text/x-python",
   "name": "python",
   "nbconvert_exporter": "python",
   "pygments_lexer": "ipython3",
   "version": "3.5.2"
  }
 },
 "nbformat": 4,
 "nbformat_minor": 2
}
